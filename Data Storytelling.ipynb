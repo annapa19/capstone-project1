{
 "cells": [
  {
   "cell_type": "code",
   "execution_count": 69,
   "metadata": {
    "collapsed": true
   },
   "outputs": [],
   "source": [
    "import pandas as pd\n",
    "import numpy as np\n",
    "import matplotlib as py\n",
    "import re"
   ]
  },
  {
   "cell_type": "code",
   "execution_count": 47,
   "metadata": {
    "collapsed": true
   },
   "outputs": [],
   "source": [
    "reviews=pd.read_csv('/Users/anna/Downloads/reviews.csv.gz',compression='gzip').dropna()\n",
    "listings=pd.read_csv('/Users/anna/Downloads/listings (1).csv',error_bad_lines=False)\n",
    "neighborhoods=pd.read_csv('/Users/anna/Downloads/neighbourhoods.csv',error_bad_lines=False)"
   ]
  },
  {
   "cell_type": "code",
   "execution_count": 48,
   "metadata": {
    "collapsed": false
   },
   "outputs": [],
   "source": [
    "inactive=listings.loc[listings.availability_365==365]\n",
    "inactive.set_index('id',inplace=True)\n",
    "listings.set_index('id',inplace=True)\n",
    "new_listings=listings.drop(inactive.index,axis=0)"
   ]
  },
  {
   "cell_type": "code",
   "execution_count": 55,
   "metadata": {
    "collapsed": false
   },
   "outputs": [
    {
     "data": {
      "text/plain": [
       "(78074, 15)"
      ]
     },
     "execution_count": 55,
     "metadata": {},
     "output_type": "execute_result"
    }
   ],
   "source": [
    "new_listings.shape"
   ]
  },
  {
   "cell_type": "code",
   "execution_count": 50,
   "metadata": {
    "collapsed": false,
    "scrolled": true
   },
   "outputs": [
    {
     "data": {
      "text/html": [
       "<div>\n",
       "<table border=\"1\" class=\"dataframe\">\n",
       "  <thead>\n",
       "    <tr style=\"text-align: right;\">\n",
       "      <th></th>\n",
       "      <th>listing_id</th>\n",
       "      <th>id</th>\n",
       "      <th>date</th>\n",
       "      <th>reviewer_id</th>\n",
       "      <th>reviewer_name</th>\n",
       "      <th>comments</th>\n",
       "    </tr>\n",
       "  </thead>\n",
       "  <tbody>\n",
       "    <tr>\n",
       "      <th>0</th>\n",
       "      <td>13913</td>\n",
       "      <td>80770</td>\n",
       "      <td>2010-08-18</td>\n",
       "      <td>177109</td>\n",
       "      <td>Michael</td>\n",
       "      <td>My girlfriend and I hadn't known Alina before ...</td>\n",
       "    </tr>\n",
       "    <tr>\n",
       "      <th>1</th>\n",
       "      <td>13913</td>\n",
       "      <td>367568</td>\n",
       "      <td>2011-07-11</td>\n",
       "      <td>19835707</td>\n",
       "      <td>Mathias</td>\n",
       "      <td>Alina was a really good host. The flat is clea...</td>\n",
       "    </tr>\n",
       "    <tr>\n",
       "      <th>2</th>\n",
       "      <td>13913</td>\n",
       "      <td>529579</td>\n",
       "      <td>2011-09-13</td>\n",
       "      <td>1110304</td>\n",
       "      <td>Kristin</td>\n",
       "      <td>Alina is an amazing host. She made me feel rig...</td>\n",
       "    </tr>\n",
       "    <tr>\n",
       "      <th>3</th>\n",
       "      <td>13913</td>\n",
       "      <td>595481</td>\n",
       "      <td>2011-10-03</td>\n",
       "      <td>1216358</td>\n",
       "      <td>Camilla</td>\n",
       "      <td>Alina's place is so nice, the room is big and ...</td>\n",
       "    </tr>\n",
       "    <tr>\n",
       "      <th>4</th>\n",
       "      <td>13913</td>\n",
       "      <td>612947</td>\n",
       "      <td>2011-10-09</td>\n",
       "      <td>490840</td>\n",
       "      <td>Jorik</td>\n",
       "      <td>Nice location in Islington area, good for shor...</td>\n",
       "    </tr>\n",
       "  </tbody>\n",
       "</table>\n",
       "</div>"
      ],
      "text/plain": [
       "   listing_id      id        date  reviewer_id reviewer_name  \\\n",
       "0       13913   80770  2010-08-18       177109       Michael   \n",
       "1       13913  367568  2011-07-11     19835707       Mathias   \n",
       "2       13913  529579  2011-09-13      1110304       Kristin   \n",
       "3       13913  595481  2011-10-03      1216358       Camilla   \n",
       "4       13913  612947  2011-10-09       490840         Jorik   \n",
       "\n",
       "                                            comments  \n",
       "0  My girlfriend and I hadn't known Alina before ...  \n",
       "1  Alina was a really good host. The flat is clea...  \n",
       "2  Alina is an amazing host. She made me feel rig...  \n",
       "3  Alina's place is so nice, the room is big and ...  \n",
       "4  Nice location in Islington area, good for shor...  "
      ]
     },
     "execution_count": 50,
     "metadata": {},
     "output_type": "execute_result"
    }
   ],
   "source": [
    "reviews[:5]"
   ]
  },
  {
   "cell_type": "code",
   "execution_count": 219,
   "metadata": {
    "collapsed": false,
    "scrolled": true
   },
   "outputs": [
    {
     "data": {
      "text/html": [
       "<div>\n",
       "<table border=\"1\" class=\"dataframe\">\n",
       "  <thead>\n",
       "    <tr style=\"text-align: right;\">\n",
       "      <th></th>\n",
       "      <th>cancellations</th>\n",
       "    </tr>\n",
       "  </thead>\n",
       "  <tbody>\n",
       "    <tr>\n",
       "      <th>4461052</th>\n",
       "      <td>15</td>\n",
       "    </tr>\n",
       "    <tr>\n",
       "      <th>412058</th>\n",
       "      <td>15</td>\n",
       "    </tr>\n",
       "    <tr>\n",
       "      <th>6999328</th>\n",
       "      <td>14</td>\n",
       "    </tr>\n",
       "    <tr>\n",
       "      <th>10778211</th>\n",
       "      <td>14</td>\n",
       "    </tr>\n",
       "    <tr>\n",
       "      <th>23496564</th>\n",
       "      <td>14</td>\n",
       "    </tr>\n",
       "  </tbody>\n",
       "</table>\n",
       "</div>"
      ],
      "text/plain": [
       "          cancellations\n",
       "4461052              15\n",
       "412058               15\n",
       "6999328              14\n",
       "10778211             14\n",
       "23496564             14"
      ]
     },
     "execution_count": 219,
     "metadata": {},
     "output_type": "execute_result"
    }
   ],
   "source": [
    "autopost=reviews[reviews.comments.str.contains('The host canceled')]\n",
    "canceled=autopost.listing_id.value_counts()\n",
    "num_cancel=canceled.to_frame(name='cancellations')\n",
    "num_cancel[:5]"
   ]
  },
  {
   "cell_type": "code",
   "execution_count": 67,
   "metadata": {
    "collapsed": false,
    "scrolled": true
   },
   "outputs": [],
   "source": [
    "df=new_listings.merge(num_cancel, how='left',left_index=True,right_index=True).fillna(0)"
   ]
  },
  {
   "cell_type": "code",
   "execution_count": 222,
   "metadata": {
    "collapsed": false
   },
   "outputs": [
    {
     "data": {
      "text/html": [
       "<div>\n",
       "<table border=\"1\" class=\"dataframe\">\n",
       "  <thead>\n",
       "    <tr style=\"text-align: right;\">\n",
       "      <th></th>\n",
       "      <th>name</th>\n",
       "      <th>host_id</th>\n",
       "      <th>host_name</th>\n",
       "      <th>neighbourhood_group</th>\n",
       "      <th>neighbourhood</th>\n",
       "      <th>latitude</th>\n",
       "      <th>longitude</th>\n",
       "      <th>room_type</th>\n",
       "      <th>price</th>\n",
       "      <th>minimum_nights</th>\n",
       "      <th>number_of_reviews</th>\n",
       "      <th>last_review</th>\n",
       "      <th>reviews_per_month</th>\n",
       "      <th>calculated_host_listings_count</th>\n",
       "      <th>availability_365</th>\n",
       "      <th>cancellations</th>\n",
       "      <th>days_booked</th>\n",
       "    </tr>\n",
       "    <tr>\n",
       "      <th>id</th>\n",
       "      <th></th>\n",
       "      <th></th>\n",
       "      <th></th>\n",
       "      <th></th>\n",
       "      <th></th>\n",
       "      <th></th>\n",
       "      <th></th>\n",
       "      <th></th>\n",
       "      <th></th>\n",
       "      <th></th>\n",
       "      <th></th>\n",
       "      <th></th>\n",
       "      <th></th>\n",
       "      <th></th>\n",
       "      <th></th>\n",
       "      <th></th>\n",
       "      <th></th>\n",
       "    </tr>\n",
       "  </thead>\n",
       "  <tbody>\n",
       "    <tr>\n",
       "      <th>11551</th>\n",
       "      <td>Stylish and bright London apartment in Zone 2</td>\n",
       "      <td>43039</td>\n",
       "      <td>Adriano</td>\n",
       "      <td>0</td>\n",
       "      <td>Lambeth</td>\n",
       "      <td>51.46225</td>\n",
       "      <td>-0.11732</td>\n",
       "      <td>Entire home/apt</td>\n",
       "      <td>88</td>\n",
       "      <td>2</td>\n",
       "      <td>183</td>\n",
       "      <td>2018-08-22</td>\n",
       "      <td>1.65</td>\n",
       "      <td>2</td>\n",
       "      <td>290</td>\n",
       "      <td>0</td>\n",
       "      <td>75</td>\n",
       "    </tr>\n",
       "    <tr>\n",
       "      <th>13913</th>\n",
       "      <td>Holiday London DB Room Let-on going</td>\n",
       "      <td>54730</td>\n",
       "      <td>Alina</td>\n",
       "      <td>0</td>\n",
       "      <td>Islington</td>\n",
       "      <td>51.56802</td>\n",
       "      <td>-0.11121</td>\n",
       "      <td>Private room</td>\n",
       "      <td>65</td>\n",
       "      <td>1</td>\n",
       "      <td>14</td>\n",
       "      <td>2018-06-17</td>\n",
       "      <td>0.13</td>\n",
       "      <td>3</td>\n",
       "      <td>362</td>\n",
       "      <td>1</td>\n",
       "      <td>3</td>\n",
       "    </tr>\n",
       "    <tr>\n",
       "      <th>15400</th>\n",
       "      <td>Bright Chelsea  Apartment. Chelsea!</td>\n",
       "      <td>60302</td>\n",
       "      <td>Philippa</td>\n",
       "      <td>0</td>\n",
       "      <td>Kensington and Chelsea</td>\n",
       "      <td>51.48796</td>\n",
       "      <td>-0.16898</td>\n",
       "      <td>Entire home/apt</td>\n",
       "      <td>100</td>\n",
       "      <td>3</td>\n",
       "      <td>84</td>\n",
       "      <td>2019-04-22</td>\n",
       "      <td>0.74</td>\n",
       "      <td>1</td>\n",
       "      <td>155</td>\n",
       "      <td>0</td>\n",
       "      <td>210</td>\n",
       "    </tr>\n",
       "    <tr>\n",
       "      <th>17402</th>\n",
       "      <td>Superb 3-Bed/2 Bath &amp; Wifi: Trendy W1</td>\n",
       "      <td>67564</td>\n",
       "      <td>Liz</td>\n",
       "      <td>0</td>\n",
       "      <td>Westminster</td>\n",
       "      <td>51.52098</td>\n",
       "      <td>-0.14002</td>\n",
       "      <td>Entire home/apt</td>\n",
       "      <td>300</td>\n",
       "      <td>3</td>\n",
       "      <td>40</td>\n",
       "      <td>2019-04-20</td>\n",
       "      <td>0.40</td>\n",
       "      <td>13</td>\n",
       "      <td>230</td>\n",
       "      <td>0</td>\n",
       "      <td>135</td>\n",
       "    </tr>\n",
       "    <tr>\n",
       "      <th>24328</th>\n",
       "      <td>Battersea bedroom &amp; office w parking shared ga...</td>\n",
       "      <td>41759</td>\n",
       "      <td>Joe</td>\n",
       "      <td>0</td>\n",
       "      <td>Wandsworth</td>\n",
       "      <td>51.47298</td>\n",
       "      <td>-0.16376</td>\n",
       "      <td>Entire home/apt</td>\n",
       "      <td>175</td>\n",
       "      <td>30</td>\n",
       "      <td>92</td>\n",
       "      <td>2016-09-07</td>\n",
       "      <td>0.89</td>\n",
       "      <td>1</td>\n",
       "      <td>332</td>\n",
       "      <td>2</td>\n",
       "      <td>33</td>\n",
       "    </tr>\n",
       "  </tbody>\n",
       "</table>\n",
       "</div>"
      ],
      "text/plain": [
       "                                                    name  host_id host_name  \\\n",
       "id                                                                            \n",
       "11551      Stylish and bright London apartment in Zone 2    43039   Adriano   \n",
       "13913                Holiday London DB Room Let-on going    54730     Alina   \n",
       "15400                Bright Chelsea  Apartment. Chelsea!    60302  Philippa   \n",
       "17402              Superb 3-Bed/2 Bath & Wifi: Trendy W1    67564       Liz   \n",
       "24328  Battersea bedroom & office w parking shared ga...    41759       Joe   \n",
       "\n",
       "       neighbourhood_group           neighbourhood  latitude  longitude  \\\n",
       "id                                                                        \n",
       "11551                    0                 Lambeth  51.46225   -0.11732   \n",
       "13913                    0               Islington  51.56802   -0.11121   \n",
       "15400                    0  Kensington and Chelsea  51.48796   -0.16898   \n",
       "17402                    0             Westminster  51.52098   -0.14002   \n",
       "24328                    0              Wandsworth  51.47298   -0.16376   \n",
       "\n",
       "             room_type  price  minimum_nights  number_of_reviews last_review  \\\n",
       "id                                                                             \n",
       "11551  Entire home/apt     88               2                183  2018-08-22   \n",
       "13913     Private room     65               1                 14  2018-06-17   \n",
       "15400  Entire home/apt    100               3                 84  2019-04-22   \n",
       "17402  Entire home/apt    300               3                 40  2019-04-20   \n",
       "24328  Entire home/apt    175              30                 92  2016-09-07   \n",
       "\n",
       "       reviews_per_month  calculated_host_listings_count  availability_365  \\\n",
       "id                                                                           \n",
       "11551               1.65                               2               290   \n",
       "13913               0.13                               3               362   \n",
       "15400               0.74                               1               155   \n",
       "17402               0.40                              13               230   \n",
       "24328               0.89                               1               332   \n",
       "\n",
       "       cancellations  days_booked  \n",
       "id                                 \n",
       "11551              0           75  \n",
       "13913              1            3  \n",
       "15400              0          210  \n",
       "17402              0          135  \n",
       "24328              2           33  "
      ]
     },
     "execution_count": 222,
     "metadata": {},
     "output_type": "execute_result"
    }
   ],
   "source": [
    "booked=365-df.availability_365\n",
    "booked=booked.to_frame(name='days_booked')\n",
    "df2=df.merge(booked, how='left',left_index=True,right_index=True)\n",
    "df2[:5]"
   ]
  },
  {
   "cell_type": "code",
   "execution_count": null,
   "metadata": {
    "collapsed": true
   },
   "outputs": [],
   "source": []
  },
  {
   "cell_type": "code",
   "execution_count": 221,
   "metadata": {
    "collapsed": false,
    "scrolled": true
   },
   "outputs": [
    {
     "data": {
      "text/html": [
       "<div>\n",
       "<table border=\"1\" class=\"dataframe\">\n",
       "  <thead>\n",
       "    <tr style=\"text-align: right;\">\n",
       "      <th></th>\n",
       "      <th>index</th>\n",
       "      <th>listing_id</th>\n",
       "      <th>id</th>\n",
       "      <th>date</th>\n",
       "      <th>reviewer_id</th>\n",
       "      <th>reviewer_name</th>\n",
       "      <th>comments</th>\n",
       "    </tr>\n",
       "  </thead>\n",
       "  <tbody>\n",
       "    <tr>\n",
       "      <th>0</th>\n",
       "      <td>12</td>\n",
       "      <td>13913</td>\n",
       "      <td>262179591</td>\n",
       "      <td>2018-05-08</td>\n",
       "      <td>99110277</td>\n",
       "      <td>Philippe</td>\n",
       "      <td>The host canceled this reservation 53 days bef...</td>\n",
       "    </tr>\n",
       "    <tr>\n",
       "      <th>1</th>\n",
       "      <td>136</td>\n",
       "      <td>24328</td>\n",
       "      <td>221644</td>\n",
       "      <td>2011-04-10</td>\n",
       "      <td>315279</td>\n",
       "      <td>Craig</td>\n",
       "      <td>The host canceled my reservation 38 days befor...</td>\n",
       "    </tr>\n",
       "    <tr>\n",
       "      <th>2</th>\n",
       "      <td>224</td>\n",
       "      <td>24328</td>\n",
       "      <td>98123248</td>\n",
       "      <td>2016-08-29</td>\n",
       "      <td>29270232</td>\n",
       "      <td>Keira</td>\n",
       "      <td>The host canceled this reservation 58 days bef...</td>\n",
       "    </tr>\n",
       "    <tr>\n",
       "      <th>3</th>\n",
       "      <td>361</td>\n",
       "      <td>25123</td>\n",
       "      <td>212211101</td>\n",
       "      <td>2017-11-16</td>\n",
       "      <td>156529186</td>\n",
       "      <td>Krishnamoortee</td>\n",
       "      <td>The host canceled this reservation 35 days bef...</td>\n",
       "    </tr>\n",
       "    <tr>\n",
       "      <th>4</th>\n",
       "      <td>431</td>\n",
       "      <td>26482</td>\n",
       "      <td>137001</td>\n",
       "      <td>2010-11-10</td>\n",
       "      <td>278167</td>\n",
       "      <td>Benjamin</td>\n",
       "      <td>The host canceled my reservation 52 days befor...</td>\n",
       "    </tr>\n",
       "  </tbody>\n",
       "</table>\n",
       "</div>"
      ],
      "text/plain": [
       "   index  listing_id         id        date  reviewer_id   reviewer_name  \\\n",
       "0     12       13913  262179591  2018-05-08     99110277        Philippe   \n",
       "1    136       24328     221644  2011-04-10       315279           Craig   \n",
       "2    224       24328   98123248  2016-08-29     29270232           Keira   \n",
       "3    361       25123  212211101  2017-11-16    156529186  Krishnamoortee   \n",
       "4    431       26482     137001  2010-11-10       278167        Benjamin   \n",
       "\n",
       "                                            comments  \n",
       "0  The host canceled this reservation 53 days bef...  \n",
       "1  The host canceled my reservation 38 days befor...  \n",
       "2  The host canceled this reservation 58 days bef...  \n",
       "3  The host canceled this reservation 35 days bef...  \n",
       "4  The host canceled my reservation 52 days befor...  "
      ]
     },
     "execution_count": 221,
     "metadata": {},
     "output_type": "execute_result"
    }
   ],
   "source": [
    "autopost.reset_index()[:5]"
   ]
  },
  {
   "cell_type": "markdown",
   "metadata": {},
   "source": [
    "**QUESTION**\n",
    "\n",
    "**For the next step, I want to create a separate column for the number of days left before the guest's arrival when the cancellation was made. BUT I'm having trouble doing this. To extract the number of days, i'm using re.findall(). I'm having a hard time compiling this in a list/series.**"
   ]
  },
  {
   "cell_type": "code",
   "execution_count": 216,
   "metadata": {
    "collapsed": false,
    "scrolled": true
   },
   "outputs": [
    {
     "name": "stdout",
     "output_type": "stream",
     "text": [
      "19842\n"
     ]
    }
   ],
   "source": [
    "list_days=[]\n",
    "\n",
    "for row in autopost.comments:\n",
    "    x=(re.findall('\\d+', row))\n",
    "    list_days+=x\n",
    "    \n",
    "print(len(list_days))\n",
    "\n",
    "#there are supposed to be 21,341 rows.. which means there are null values(i'd have to figure why there are null values \n",
    "#later on as well). since the null values are being ignored in this code, i try to deal with them in the codes below but \n",
    "#it's not working either\n",
    "\n"
   ]
  },
  {
   "cell_type": "code",
   "execution_count": 212,
   "metadata": {
    "collapsed": false,
    "scrolled": true
   },
   "outputs": [
    {
     "ename": "TypeError",
     "evalue": "'int' object is not iterable",
     "output_type": "error",
     "traceback": [
      "\u001b[0;31m---------------------------------------------------------------------------\u001b[0m",
      "\u001b[0;31mTypeError\u001b[0m                                 Traceback (most recent call last)",
      "\u001b[0;32m<ipython-input-212-4a52bc399940>\u001b[0m in \u001b[0;36m<module>\u001b[0;34m()\u001b[0m\n\u001b[1;32m     11\u001b[0m     \u001b[0;32mif\u001b[0m \u001b[0mdays\u001b[0m\u001b[0;34m>=\u001b[0m\u001b[0;36m0\u001b[0m\u001b[0;34m:\u001b[0m\u001b[0;34m\u001b[0m\u001b[0m\n\u001b[1;32m     12\u001b[0m         \u001b[0mdays_prior\u001b[0m\u001b[0;34m+=\u001b[0m\u001b[0mdays\u001b[0m\u001b[0;34m\u001b[0m\u001b[0m\n\u001b[0;32m---> 13\u001b[0;31m         \u001b[0mind\u001b[0m\u001b[0;34m+=\u001b[0m\u001b[0mindex\u001b[0m\u001b[0;34m\u001b[0m\u001b[0m\n\u001b[0m\u001b[1;32m     14\u001b[0m     \u001b[0;32melse\u001b[0m\u001b[0;34m:\u001b[0m\u001b[0;34m\u001b[0m\u001b[0m\n\u001b[1;32m     15\u001b[0m         \u001b[0mdays_prior\u001b[0m\u001b[0;34m+=\u001b[0m\u001b[0;36m0\u001b[0m\u001b[0;34m\u001b[0m\u001b[0m\n",
      "\u001b[0;31mTypeError\u001b[0m: 'int' object is not iterable"
     ]
    }
   ],
   "source": [
    "# the problem arises when i try to deal with the null values. i try to do if statements but it's not working and i'm not\n",
    "#sure why? my thought process for this code was that along with the number of days, i want there to be a corresponding\n",
    "#index number so i can successfully merge them to the dataframe above\n",
    "\n",
    "#shouldn't 'index=list(autopost.comments).index(string)' give me an index number that i can compile in my list 'ind'? \n",
    "days_prior=[]\n",
    "ind=[]\n",
    "for string in autopost.comments:\n",
    "    days=re.findall('\\d+', string)\n",
    "    index=list(autopost.comments).index(string)\n",
    "    if days>=0:\n",
    "        days_prior+=days\n",
    "        ind+=index\n",
    "    else:\n",
    "        days_prior+=0\n",
    "        ind+=index\n",
    "    \n",
    "    \n",
    "    \n",
    "    \n",
    "print(days_prior)\n",
    "print(ind)\n",
    "\n"
   ]
  },
  {
   "cell_type": "code",
   "execution_count": 224,
   "metadata": {
    "collapsed": false
   },
   "outputs": [
    {
     "name": "stdout",
     "output_type": "stream",
     "text": [
      "['5', '3', '3', '8', '5', '8', '3', '5', '5', '2', '7', '3', '8', '7', '1', '5', '7', '1', '3', '3']\n"
     ]
    }
   ],
   "source": [
    "#for this one, i'm not even trying to deal with the index anymore. i just want to make sure the null values are \n",
    "#included but it's separating them by digit. isn't 'days' a list in this code? so shouldn't 'x in days' be the \n",
    "#object in the list? and not the separate digits?\n",
    "\n",
    "\n",
    "list=[]\n",
    "\n",
    "for string in autopost.comments:\n",
    "    days=(re.findall('\\d+', string))\n",
    "    for x in days:\n",
    "        if x>=0:\n",
    "            list+=x\n",
    "        else:\n",
    "            list+=0\n",
    " \n",
    "    \n",
    "print(list)[:20]"
   ]
  }
 ],
 "metadata": {
  "kernelspec": {
   "display_name": "Python 2",
   "language": "python",
   "name": "python2"
  },
  "language_info": {
   "codemirror_mode": {
    "name": "ipython",
    "version": 2
   },
   "file_extension": ".py",
   "mimetype": "text/x-python",
   "name": "python",
   "nbconvert_exporter": "python",
   "pygments_lexer": "ipython2",
   "version": "2.7.11"
  }
 },
 "nbformat": 4,
 "nbformat_minor": 0
}
