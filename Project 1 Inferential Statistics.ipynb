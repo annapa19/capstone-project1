{
 "cells": [
  {
   "cell_type": "markdown",
   "metadata": {},
   "source": [
    "Next, we apply inferential statistics techniques to explore the data and better understand the relationship between our variables.\n"
   ]
  },
  {
   "cell_type": "code",
   "execution_count": 1,
   "metadata": {},
   "outputs": [],
   "source": [
    "import pandas as pd\n",
    "import numpy as np\n",
    "import re\n",
    "import seaborn as sns\n",
    "%matplotlib inline\n",
    "import matplotlib.pyplot as plt\n",
    "import scipy.stats as stats"
   ]
  },
  {
   "cell_type": "code",
   "execution_count": 169,
   "metadata": {},
   "outputs": [],
   "source": [
    "reviews=pd.read_csv('/Users/anna/Downloads/reviews.csv.gz',compression='gzip').dropna()\n",
    "listings=pd.read_csv('/Users/anna/Downloads/listings (1).csv',error_bad_lines=False)\n",
    "neighborhoods=pd.read_csv('/Users/anna/Downloads/neighbourhoods.csv',error_bad_lines=False)\n",
    "crime=pd.read_csv('/Users/anna/Downloads/crime rates.csv',error_bad_lines=False).dropna()\n",
    "\n",
    "inactive=listings.loc[listings.availability_365==365]\n",
    "inactive.set_index('id',inplace=True)\n",
    "listings.set_index('id',inplace=True)\n",
    "new_listings=listings.drop(inactive.index,axis=0)\n",
    "\n",
    "autopost_1=reviews[reviews.comments.str.contains('The host canceled my reservation')]\n",
    "autopost_2=reviews[reviews.comments.str.contains('This is an automated posting')]\n",
    "autopost=pd.concat([autopost_1,autopost_2], axis=0).reset_index()\n",
    "\n",
    "\n",
    "canceled=autopost.listing_id.value_counts()\n",
    "num_cancel=canceled.to_frame(name='cancellations')\n",
    "new_listings['num_cancellations']=num_cancel\n",
    "\n",
    "booked=365-new_listings.availability_365\n",
    "booked=booked.to_frame('days booked')\n",
    "df=new_listings.merge(booked, how='left',left_index=True,right_index=True)\n",
    "df=df[['neighbourhood','room_type','price','minimum_nights','number_of_reviews'\\\n",
    "       ,'calculated_host_listings_count','days booked','num_cancellations']]\n",
    "\n",
    "\n",
    "def days_count(text):\n",
    "    if 'the day before' in text:\n",
    "        return 1\n",
    "    else:\n",
    "        return int(re.findall('\\d+', text)[0])\n",
    "\n",
    "total_days=pd.DataFrame(autopost.comments.apply(days_count))\n",
    "\n",
    "auto=pd.merge(autopost,total_days,how='left',left_index=True,right_index=True)\n",
    "\n",
    "avg_days=pd.DataFrame(auto[['listing_id','comments_y']].groupby('listing_id')['comments_y'].apply(np.mean).apply(round))\n",
    "\n",
    "conv = lambda x: float(x.replace(',',''))\n",
    "crime['Number_of_offences']=crime.Number_of_offences.apply(conv)\n",
    "all_crimes=crime[crime['Offences']=='All recorded offences']\n",
    "\n",
    "all_crimes=all_crimes[all_crimes['Borough']!='Inner London']\n",
    "all_crimes=all_crimes[all_crimes['Borough']!='England and Wales']\n",
    "all_crimes=all_crimes[all_crimes['Borough']!='Met Police Area']\n",
    "all_crimes=all_crimes[all_crimes['Borough']!='Outer London']\n",
    "all_crimes=all_crimes[all_crimes['Borough']!='Heathrow']\n",
    "\n",
    "conv_fl = lambda x: int(x.replace('-',''))\n",
    "year = all_crimes.Year.apply(conv_fl)\n",
    "all_crimes['Year']=year\n",
    "latest=all_crimes[(all_crimes['Year'])>=201112]\n",
    "df_main=pd.merge(df,latest.groupby('Borough').mean(),left_on='neighbourhood',right_on='Borough',how='left')"
   ]
  },
  {
   "cell_type": "markdown",
   "metadata": {},
   "source": [
    "**Cancellations vs Price**"
   ]
  },
  {
   "cell_type": "markdown",
   "metadata": {},
   "source": [
    "Null Hypothesis: There is no significant correlation between the number of cancellations vs the price of the listing.\n",
    "\n",
    "Alternative Hypothesis: There is a significant correlation between the two."
   ]
  },
  {
   "cell_type": "code",
   "execution_count": 205,
   "metadata": {
    "scrolled": true
   },
   "outputs": [
    {
     "data": {
      "image/png": "[encoded data removed]",
      "text/plain": [
       "<Figure size 432x288 with 1 Axes>"
      ]
     },
     "metadata": {
      "needs_background": "light"
     },
     "output_type": "display_data"
    },
    {
     "name": "stdout",
     "output_type": "stream",
     "text": [
      "observed correlation between price and number of cancellations: -0.02526\n",
      "p-value: 0.0000000000\n",
      "We reject the null. There is a significant correlation between price and number of cancellations\n"
     ]
    }
   ],
   "source": [
    "price=pd.DataFrame(df[df.price!=0]['price'])\n",
    "cancel=pd.DataFrame(df.num_cancellations.fillna(0))\n",
    "price_cancel = price.merge(cancel,how='left',left_index=True,right_index=True)\n",
    "\n",
    "#actual correlation between the two\n",
    "c1=stats.pearsonr(price_cancel.price,price_cancel.num_cancellations)[0]\n",
    "\n",
    "\n",
    "#bootstrapping\n",
    "\n",
    "corr_replicates=np.empty(10000)\n",
    "\n",
    "for i in range(10000):\n",
    "    price_perm=np.random.permutation(price_cancel.price)\n",
    "    corr_replicates[i]=stats.pearsonr(price_perm,price_cancel.num_cancellations)[0]\n",
    "\n",
    "_=sns.distplot(corr_replicates)\n",
    "plt.show()\n",
    "\n",
    "\n",
    "p1 = (np.sum(np.abs(corr_replicates)>=np.abs(c1))/10000)\n",
    "\n",
    "print('observed correlation between price and number of cancellations: %.5f'%c1)\n",
    "print('p-value: %.10f' % p1)\n",
    "\n",
    "if p1>0.01:\n",
    "    print('We fail to reject the null. There is no significant correlation between price and number of cancellations')\n",
    "else:\n",
    "    print('We reject the null. There is a significant correlation between price and number of cancellations')\n",
    "\n"
   ]
  },
  {
   "cell_type": "markdown",
   "metadata": {},
   "source": [
    "**Cancellations vs Popularity (Number of Reviews)**"
   ]
  },
  {
   "cell_type": "markdown",
   "metadata": {},
   "source": [
    "Null Hypothesis: There is no significant correlation between the number of cancellations vs the number of reviews a listing gets.\n",
    "\n",
    "Alternative Hypothesis: There is a significant correlation between the two."
   ]
  },
  {
   "cell_type": "code",
   "execution_count": 207,
   "metadata": {},
   "outputs": [
    {
     "data": {
      "image/png": "[encoded data removed]",
      "text/plain": [
       "<Figure size 432x288 with 1 Axes>"
      ]
     },
     "metadata": {
      "needs_background": "light"
     },
     "output_type": "display_data"
    },
    {
     "name": "stdout",
     "output_type": "stream",
     "text": [
      "observed correlation between price and number of reviews: 0.21254\n",
      "p-value: 0.0000000000\n",
      "We reject the null. There is a significant correlation between between the number of cancellations and number of reviews\n"
     ]
    }
   ],
   "source": [
    "#actual correlation between the two\n",
    "c2=stats.pearsonr(df.number_of_reviews,cancel.num_cancellations)[0]\n",
    "\n",
    "\n",
    "#bootstrapping\n",
    "\n",
    "corr_replicates=np.empty(10000)\n",
    "\n",
    "for i in range(10000):\n",
    "    rev_perm=np.random.permutation(df.number_of_reviews)\n",
    "    corr_replicates[i]=stats.pearsonr(rev_perm,cancel.num_cancellations)[0]\n",
    "\n",
    "_=sns.distplot(corr_replicates)\n",
    "plt.show()\n",
    "\n",
    "\n",
    "p2 = (np.sum(np.abs(corr_replicates)>=np.abs(c2))/10000)\n",
    "\n",
    "print('observed correlation between price and number of reviews: %.5f'%c2)\n",
    "print('p-value: %.10f' % p2)\n",
    "\n",
    "if p2>0.01:\n",
    "    print('We fail to reject the null. There is no significant correlation between the number of cancellations and number of reviews')\n",
    "else:\n",
    "    print('We reject the null. There is a significant correlation between between the number of cancellations and number of reviews')\n",
    "    "
   ]
  },
  {
   "cell_type": "markdown",
   "metadata": {},
   "source": [
    "**Cancellations vs Demand(Days Booked)**"
   ]
  },
  {
   "cell_type": "markdown",
   "metadata": {},
   "source": [
    "Null Hypothesis: There is no significant correlation between the number of cancellations and the number of days the listing is booked.\n",
    "\n",
    "Alternative Hypothesis: There is a significant correlation between the two."
   ]
  },
  {
   "cell_type": "code",
   "execution_count": 210,
   "metadata": {},
   "outputs": [
    {
     "data": {
      "image/png": "[encoded data removed]",
      "text/plain": [
       "<Figure size 432x288 with 1 Axes>"
      ]
     },
     "metadata": {
      "needs_background": "light"
     },
     "output_type": "display_data"
    },
    {
     "name": "stdout",
     "output_type": "stream",
     "text": [
      "observed correlation between number of days booked and number of cancellations: -0.01100\n",
      "p-value: 0.0018000000\n",
      "We reject the null. There is a significant correlation between the number of cancellations and the number of days the listing is booked.\n"
     ]
    }
   ],
   "source": [
    "#actual correlation between the two\n",
    "c3=stats.pearsonr(df['days booked'],cancel.num_cancellations)[0]\n",
    "\n",
    "\n",
    "#bootstrapping\n",
    "\n",
    "corr_replicates=np.empty(10000)\n",
    "\n",
    "for i in range(10000):\n",
    "    days_perm=np.random.permutation(df['days booked'])\n",
    "    corr_replicates[i]=stats.pearsonr(days_perm,cancel.num_cancellations)[0]\n",
    "\n",
    "_=sns.distplot(corr_replicates)\n",
    "plt.show()\n",
    "\n",
    "\n",
    "p3 = (np.sum(np.abs(corr_replicates)>=np.abs(c3))/10000)\n",
    "\n",
    "print('observed correlation between number of days booked and number of cancellations: %.5f'%c3)\n",
    "print('p-value: %.10f' % p3)\n",
    "\n",
    "if p3>0.05:\n",
    "    print('We fail to reject the null. There is no significant correlation  between the number of cancellations and the number of days the listing is booked.')\n",
    "else:\n",
    "    print('We reject the null. There is a significant correlation between the number of cancellations and the number of days the listing is booked.')\n",
    "    \n"
   ]
  },
  {
   "cell_type": "markdown",
   "metadata": {},
   "source": [
    "**Cancellation vs Minimum Nights**"
   ]
  },
  {
   "cell_type": "markdown",
   "metadata": {},
   "source": [
    "Null Hypothesis: There is no significant correlation between the number of cancellations and the minimum nights required by a listing.\n",
    "\n",
    "Alternative Hypothesis: There is a significant correlation between the two."
   ]
  },
  {
   "cell_type": "code",
   "execution_count": 212,
   "metadata": {
    "scrolled": true
   },
   "outputs": [
    {
     "data": {
      "image/png": "[encoded data removed]",
      "text/plain": [
       "<Figure size 432x288 with 1 Axes>"
      ]
     },
     "metadata": {
      "needs_background": "light"
     },
     "output_type": "display_data"
    },
    {
     "name": "stdout",
     "output_type": "stream",
     "text": [
      "observed correlation between minimum nights and number of cancellations: -0.00473\n",
      "p-value: 0.1630000000\n",
      "We fail to reject the null. There is no significant correlation between the number of cancellations and the minimum nights required by a listing.\n"
     ]
    }
   ],
   "source": [
    "#actual correlation between the two\n",
    "c4=stats.pearsonr(df.minimum_nights,cancel.num_cancellations)[0]\n",
    "\n",
    "\n",
    "#bootstrapping\n",
    "\n",
    "corr_replicates=np.empty(10000)\n",
    "\n",
    "for i in range(10000):\n",
    "    min_perm=np.random.permutation(df.minimum_nights)\n",
    "    corr_replicates[i]=stats.pearsonr(min_perm,cancel.num_cancellations)[0]\n",
    "\n",
    "_=sns.distplot(corr_replicates)\n",
    "plt.show()\n",
    "\n",
    "\n",
    "p4 = (np.sum(np.abs(corr_replicates)>=np.abs(c4))/10000)\n",
    "\n",
    "print('observed correlation between minimum nights and number of cancellations: %.5f'%c4)\n",
    "print('p-value: %.10f' % p4)\n",
    "\n",
    "if p4>0.01:\n",
    "    print('We fail to reject the null. There is no significant correlation between the number of cancellations and the minimum nights required by a listing.')\n",
    "else:\n",
    "    print('We reject the null. There is a significant correlation between the number of cancellations and the minimum nights required by a listing.')\n",
    "\n"
   ]
  },
  {
   "cell_type": "markdown",
   "metadata": {},
   "source": [
    "**Cancellation vs Crime Rate**"
   ]
  },
  {
   "cell_type": "markdown",
   "metadata": {},
   "source": [
    "Null Hypothesis: There is no significant correlation between the number of cancellations and the crime rate of the neighbourhood that the listing belongs in.\n",
    "\n",
    "Alternative Hypothesis: There is a significant correlation between the number of cancellations and the crime rate of the neighbourhood that the listing belongs in."
   ]
  },
  {
   "cell_type": "code",
   "execution_count": 213,
   "metadata": {
    "scrolled": true
   },
   "outputs": [],
   "source": [
    "#No crime rate info for City of London since it is not one of the offical\n",
    "#boroughs of London\n",
    "\n",
    "df_main[df_main['Rate'].isnull()==True].head()\n",
    "df_main['num_cancellations']=df_main.num_cancellations.fillna(0)\n",
    "crime_cancel=df_main[df_main.neighbourhood!='City of London']"
   ]
  },
  {
   "cell_type": "code",
   "execution_count": 214,
   "metadata": {},
   "outputs": [
    {
     "data": {
      "image/png": "[encoded data removed]",
      "text/plain": [
       "<Figure size 432x288 with 1 Axes>"
      ]
     },
     "metadata": {
      "needs_background": "light"
     },
     "output_type": "display_data"
    },
    {
     "name": "stdout",
     "output_type": "stream",
     "text": [
      "observed correlation between crime rate and number of cancellations: 0.01161\n",
      "p-value: 0.0009000000\n",
      "We reject the null. There is a significant correlation between the number of cancellations and the crime rate of the neighbourhood that the listing belongs in.\n"
     ]
    }
   ],
   "source": [
    "#actual correlation between the two\n",
    "c5=stats.pearsonr(crime_cancel.Rate,crime_cancel.num_cancellations)[0]\n",
    "\n",
    "#bootstrapping\n",
    "\n",
    "corr_replicates=np.empty(10000)\n",
    "\n",
    "for i in range(10000):\n",
    "    crime_perm=np.random.permutation(crime_cancel.Rate)\n",
    "    corr_replicates[i]=stats.pearsonr(crime_perm,crime_cancel.num_cancellations)[0]\n",
    "\n",
    "_=sns.distplot(corr_replicates)\n",
    "plt.show()\n",
    "\n",
    "\n",
    "p5 = (np.sum(np.abs(corr_replicates)>=np.abs(c5))/10000)\n",
    "\n",
    "print('observed correlation between crime rate and number of cancellations: %.5f'%c5)\n",
    "print('p-value: %.10f' % p5)\n",
    "\n",
    "if p5>0.01:\n",
    "    print('We fail to reject the null. There is no significant correlation between the number of cancellations and the crime rate of the neighbourhood that the listing belongs in.')\n",
    "else:\n",
    "    print('We reject the null. There is a significant correlation between the number of cancellations and the crime rate of the neighbourhood that the listing belongs in.')\n"
   ]
  },
  {
   "cell_type": "markdown",
   "metadata": {},
   "source": [
    "**Cancellation by Neighborhood?**"
   ]
  },
  {
   "cell_type": "markdown",
   "metadata": {},
   "source": [
    "Null Hypothesis: The average number of cancellations of each neighbourhood are not statistically different from each other.\n",
    "\n",
    "Alternative Hypothesis: The average number of cancellations of each neighbourhood are statistically different from each other."
   ]
  },
  {
   "cell_type": "code",
   "execution_count": 172,
   "metadata": {},
   "outputs": [],
   "source": [
    "neighbourhood=list(set(df.neighbourhood))\n",
    "df['num_cancellations']=df.num_cancellations.fillna(0)"
   ]
  },
  {
   "cell_type": "code",
   "execution_count": 144,
   "metadata": {},
   "outputs": [],
   "source": [
    "f_results=stats.f_oneway(np.array(df['num_cancellations'][df['neighbourhood']==neighbourhood[0]]),np.array(df['num_cancellations'][df['neighbourhood']==neighbourhood[1]]),\\\n",
    "               np.array(df['num_cancellations'][df['neighbourhood']==neighbourhood[2]]),np.array(df['num_cancellations'][df['neighbourhood']==neighbourhood[3]]),\\\n",
    "               np.array(df['num_cancellations'][df['neighbourhood']==neighbourhood[4]]),np.array(df['num_cancellations'][df['neighbourhood']==neighbourhood[5]]),\\\n",
    "               np.array(df['num_cancellations'][df['neighbourhood']==neighbourhood[6]]),np.array(df['num_cancellations'][df['neighbourhood']==neighbourhood[7]]),\\\n",
    "               np.array(df['num_cancellations'][df['neighbourhood']==neighbourhood[8]]),np.array(df['num_cancellations'][df['neighbourhood']==neighbourhood[9]]),\\\n",
    "               np.array(df['num_cancellations'][df['neighbourhood']==neighbourhood[10]]),np.array(df['num_cancellations'][df['neighbourhood']==neighbourhood[11]]),\\\n",
    "               np.array(df['num_cancellations'][df['neighbourhood']==neighbourhood[12]]),np.array(df['num_cancellations'][df['neighbourhood']==neighbourhood[13]]),\\\n",
    "               np.array(df['num_cancellations'][df['neighbourhood']==neighbourhood[14]]),np.array(df['num_cancellations'][df['neighbourhood']==neighbourhood[15]]),\\\n",
    "               np.array(df['num_cancellations'][df['neighbourhood']==neighbourhood[16]]),np.array(df['num_cancellations'][df['neighbourhood']==neighbourhood[17]]),\\\n",
    "               np.array(df['num_cancellations'][df['neighbourhood']==neighbourhood[18]]),np.array(df['num_cancellations'][df['neighbourhood']==neighbourhood[19]]),\\\n",
    "               np.array(df['num_cancellations'][df['neighbourhood']==neighbourhood[20]]),np.array(df['num_cancellations'][df['neighbourhood']==neighbourhood[21]]),\\\n",
    "               np.array(df['num_cancellations'][df['neighbourhood']==neighbourhood[22]]),np.array(df['num_cancellations'][df['neighbourhood']==neighbourhood[23]]),\\\n",
    "               np.array(df['num_cancellations'][df['neighbourhood']==neighbourhood[24]]),np.array(df['num_cancellations'][df['neighbourhood']==neighbourhood[25]]),\\\n",
    "               np.array(df['num_cancellations'][df['neighbourhood']==neighbourhood[26]]),np.array(df['num_cancellations'][df['neighbourhood']==neighbourhood[27]]),\\\n",
    "               np.array(df['num_cancellations'][df['neighbourhood']==neighbourhood[28]]),np.array(df['num_cancellations'][df['neighbourhood']==neighbourhood[29]]),\\\n",
    "               np.array(df['num_cancellations'][df['neighbourhood']==neighbourhood[30]]),np.array(df['num_cancellations'][df['neighbourhood']==neighbourhood[31]]),\\\n",
    "               np.array(df['num_cancellations'][df['neighbourhood']==neighbourhood[32]]))\n"
   ]
  },
  {
   "cell_type": "code",
   "execution_count": 153,
   "metadata": {
    "scrolled": false
   },
   "outputs": [
    {
     "name": "stdout",
     "output_type": "stream",
     "text": [
      "f-stat: 4.65329\n",
      "p-value:0.0000000000\n",
      "The average number of cancellations of each neighbourhood are statistically different from each other.\n"
     ]
    }
   ],
   "source": [
    "print('f-stat: %.5f'%f_results[0])\n",
    "print('p-value:%.10f'%f_results[1])\n",
    "\n",
    "if f_results[1]>0.05:\n",
    "    print('The average number of cancellations of each neighbourhood are not statistically different from each other.')\n",
    "else:\n",
    "    print('The average number of cancellations of each neighbourhood are statistically different from each other.')"
   ]
  },
  {
   "cell_type": "markdown",
   "metadata": {},
   "source": [
    "**Cancellation by Room Type?**"
   ]
  },
  {
   "cell_type": "markdown",
   "metadata": {},
   "source": [
    "Null Hypothesis: The average number of cancellations of each room type are not statistically different from each other.\n",
    "\n",
    "Alternative Hypothesis: The average number of cancellations of each room type are statistically different from each other."
   ]
  },
  {
   "cell_type": "code",
   "execution_count": 155,
   "metadata": {},
   "outputs": [],
   "source": [
    "room=list(set(df.room_type))"
   ]
  },
  {
   "cell_type": "code",
   "execution_count": 158,
   "metadata": {},
   "outputs": [
    {
     "name": "stdout",
     "output_type": "stream",
     "text": [
      "f-stat: 11.68846\n",
      "p-value:0.0000084047\n",
      "The average number of cancellations of each room type are statistically different from each other.\n"
     ]
    }
   ],
   "source": [
    "f_results2=stats.f_oneway(np.array(df['num_cancellations'][df['room_type']==room[0]]),np.array(df['num_cancellations'][df['room_type']==room[1]])\\\n",
    "                         ,np.array(df['num_cancellations'][df['room_type']==room[2]]))\n",
    "\n",
    "print('f-stat: %.5f'%f_results2[0])\n",
    "print('p-value:%.10f'%f_results2[1])\n",
    "\n",
    "if f_results2[1]>0.05:\n",
    "    print('The average number of cancellations of each room type are not statistically different from each other.')\n",
    "else:\n",
    "    print('The average number of cancellations of each room type are statistically different from each other.')"
   ]
  }
 ],
 "metadata": {
  "kernelspec": {
   "display_name": "Python 3",
   "language": "python",
   "name": "python3"
  },
  "language_info": {
   "codemirror_mode": {
    "name": "ipython",
    "version": 3
   },
   "file_extension": ".py",
   "mimetype": "text/x-python",
   "name": "python",
   "nbconvert_exporter": "python",
   "pygments_lexer": "ipython3",
   "version": "3.7.1"
  }
 },
 "nbformat": 4,
 "nbformat_minor": 2
}
