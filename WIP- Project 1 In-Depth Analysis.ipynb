{
 "cells": [
  {
   "cell_type": "markdown",
   "metadata": {},
   "source": [
    "My outline for this in depth analysis was to try out different models, see which model has the best CV score, tune the hyperparameters of the top performing models, and see the final result.\n",
    "\n",
    "However, I see that the CV scores I'm getting are currently really low (some even have negative cv scores which I read only happens when you have a really bad model :///////). I tried it on two different metrics (my target/dependent variable): plainly predicting the number of cancellations and predicting the number of cancellations divided by the number of reviews."
   ]
  },
  {
   "cell_type": "code",
   "execution_count": 199,
   "metadata": {},
   "outputs": [],
   "source": [
    "import pandas as pd\n",
    "import numpy as np\n",
    "import re\n",
    "import seaborn as sns\n",
    "%matplotlib inline\n",
    "import matplotlib.pyplot as plt\n",
    "import scipy.stats as stats"
   ]
  },
  {
   "cell_type": "code",
   "execution_count": 200,
   "metadata": {},
   "outputs": [],
   "source": [
    "#data cleaning and wrangling\n",
    "\n",
    "reviews=pd.read_csv('/Users/anna/Downloads/reviews.csv.gz',compression='gzip').dropna()\n",
    "listings=pd.read_csv('/Users/anna/Downloads/listings (1).csv',error_bad_lines=False)\n",
    "neighborhoods=pd.read_csv('/Users/anna/Downloads/neighbourhoods.csv',error_bad_lines=False)\n",
    "crime=pd.read_csv('/Users/anna/Downloads/crime rates.csv',error_bad_lines=False).dropna()\n",
    "\n",
    "inactive=listings.loc[listings.availability_365==365]\n",
    "inactive.set_index('id',inplace=True)\n",
    "listings.set_index('id',inplace=True)\n",
    "new_listings=listings.drop(inactive.index,axis=0)\n",
    "\n",
    "autopost_1=reviews[reviews.comments.str.contains('The host canceled my reservation')]\n",
    "autopost_2=reviews[reviews.comments.str.contains('This is an automated posting')]\n",
    "autopost=pd.concat([autopost_1,autopost_2], axis=0).reset_index()\n",
    "\n",
    "\n",
    "def days_count(text):\n",
    "    if 'the day before' in text:\n",
    "        return 1\n",
    "    else:\n",
    "        return int(re.findall('\\d+', text)[0])\n",
    "    \n",
    "total_days=pd.DataFrame(autopost.comments.apply(days_count))\n",
    "\n",
    "auto=pd.merge(autopost,total_days,how='left',left_index=True,right_index=True)\n",
    "\n",
    "avg_days=pd.DataFrame(auto[['listing_id','comments_y']].groupby('listing_id')['comments_y'].apply(np.mean).apply(round))\n",
    "\n",
    "\n",
    "canceled=autopost.listing_id.value_counts()\n",
    "num_cancel=canceled.to_frame(name='cancellations')\n",
    "new_listings['num_cancellations']=num_cancel\n",
    "\n",
    "booked=365-new_listings.availability_365\n",
    "booked=booked.to_frame('days booked')\n",
    "df=new_listings.merge(booked, how='left',left_index=True,right_index=True)\n",
    "df['days_cancelled_avg']=avg_days\n",
    "df=df[['neighbourhood','room_type','price','minimum_nights','number_of_reviews'\\\n",
    "       ,'calculated_host_listings_count','days booked','num_cancellations','days_cancelled_avg']]\n",
    "df['num_cancellations']=df.num_cancellations.fillna(0)\n",
    "df['days_cancelled_avg']=df.days_cancelled_avg.fillna(0)\n",
    "\n",
    "\n",
    "conv = lambda x: float(x.replace(',',''))\n",
    "crime['Number_of_offences']=crime.Number_of_offences.apply(conv)\n",
    "all_crimes=crime[crime['Offences']=='All recorded offences']\n",
    "\n",
    "all_crimes=all_crimes[all_crimes['Borough']!='Inner London']\n",
    "all_crimes=all_crimes[all_crimes['Borough']!='England and Wales']\n",
    "all_crimes=all_crimes[all_crimes['Borough']!='Met Police Area']\n",
    "all_crimes=all_crimes[all_crimes['Borough']!='Outer London']\n",
    "all_crimes=all_crimes[all_crimes['Borough']!='Heathrow']\n",
    "\n",
    "conv_fl = lambda x: int(x.replace('-',''))\n",
    "year = all_crimes.Year.apply(conv_fl)\n",
    "all_crimes['Year']=year\n",
    "latest=all_crimes[(all_crimes['Year'])>=201112]\n",
    "df_main=pd.merge(df,latest.groupby('Borough').mean(),left_on='neighbourhood',right_on='Borough',how='left').drop(columns=['Year','Number_of_offences'])\n"
   ]
  },
  {
   "cell_type": "code",
   "execution_count": 201,
   "metadata": {},
   "outputs": [],
   "source": [
    "df_metrics=df_main\n",
    "df_metrics['cancel_review']=round((df.num_cancellations/df.number_of_reviews),4)\n",
    "df_metrics['cancel_review']=df_metrics.cancel_review.fillna(0)"
   ]
  },
  {
   "cell_type": "code",
   "execution_count": 202,
   "metadata": {},
   "outputs": [],
   "source": [
    "#create dummies\n",
    "\n",
    "categories=['price','neighbourhood','room_type','minimum_nights','number_of_reviews', 'days booked', 'days_cancelled_avg', 'Rate']\n",
    "\n",
    "for category in categories:\n",
    "    df_main[category]=df_main[category].astype('category')\n",
    "    \n",
    "new_df=pd.get_dummies(df_main,drop_first=True)\n",
    "\n",
    "X=new_df.drop(columns=['calculated_host_listings_count', 'num_cancellations'])\n",
    "take_log = lambda x: np.log(x) if x>0 else 0\n",
    "y=new_df.num_cancellations.apply(take_log)"
   ]
  },
  {
   "cell_type": "markdown",
   "metadata": {},
   "source": [
    "## Linear Regression"
   ]
  },
  {
   "cell_type": "code",
   "execution_count": 203,
   "metadata": {},
   "outputs": [
    {
     "name": "stdout",
     "output_type": "stream",
     "text": [
      "Linear Regression Cross-Validation Scores:\n",
      " [-6.57263634e+19 -6.48071599e+22 -2.91565127e+16 -1.55813758e+20\n",
      " -1.96186019e+20]\n",
      "Average Score on 5-Folds: -13044983047799491788800.00%\n"
     ]
    }
   ],
   "source": [
    "from sklearn.linear_model import LinearRegression\n",
    "from sklearn.model_selection import train_test_split\n",
    "from sklearn.model_selection import cross_val_score\n",
    "from sklearn.metrics import mean_squared_error\n",
    "\n",
    "X_train, X_test, y_train, y_test = train_test_split(X, y, test_size=0.3, random_state=42)\n",
    "\n",
    "reg = LinearRegression()\n",
    "reg.fit(X_train, y_train)\n",
    "\n",
    "cv_scores= cross_val_score(reg, X_train, y_train, cv=5,scoring='r2')\n",
    "\n",
    "\n",
    "print('Linear Regression Cross-Validation Scores:\\n',cv_scores)\n",
    "print(\"Average Score on 5-Folds: %.2f%%\" % cv_scores.mean())\n"
   ]
  },
  {
   "cell_type": "markdown",
   "metadata": {},
   "source": [
    "## Ridge Regression"
   ]
  },
  {
   "cell_type": "code",
   "execution_count": 204,
   "metadata": {},
   "outputs": [
    {
     "name": "stdout",
     "output_type": "stream",
     "text": [
      "scores:\n",
      " [ -2.27916476  -5.85067312  -0.88889237 -11.94086785  -8.99423917]\n"
     ]
    }
   ],
   "source": [
    "print('scores:\\n',cross_val_scores)"
   ]
  },
  {
   "cell_type": "code",
   "execution_count": 205,
   "metadata": {
    "scrolled": true
   },
   "outputs": [
    {
     "name": "stdout",
     "output_type": "stream",
     "text": [
      "Ridge Regression Cross-Validation Scores:\n",
      " [20.62296048 21.83250404 19.71058208 21.38504286 21.93898812]\n",
      "Average Score on 5-Folds: 21.10%\n"
     ]
    }
   ],
   "source": [
    "from sklearn.linear_model import Ridge\n",
    "\n",
    "ridge = Ridge(random_state=42)\n",
    "ridge.fit(X_train, y_train)\n",
    "\n",
    "cv_scores = cross_val_score(ridge, X_train, y_train, cv=5, scoring=\"r2\")*100\n",
    "\n",
    "print('Ridge Regression Cross-Validation Scores:\\n',cv_scores)\n",
    "print(\"Average Score on 5-Folds: %.2f%%\" % cv_scores.mean())\n"
   ]
  },
  {
   "cell_type": "markdown",
   "metadata": {},
   "source": [
    "## Lasso Regression"
   ]
  },
  {
   "cell_type": "code",
   "execution_count": 206,
   "metadata": {},
   "outputs": [
    {
     "name": "stdout",
     "output_type": "stream",
     "text": [
      "Lasso Regression Cross-Validation Scores:\n",
      " [-0.00920381 -0.00270682 -0.01337011 -0.00737041 -0.00225126]\n",
      "Average Score on 5-Folds: -0.01%\n"
     ]
    }
   ],
   "source": [
    "from sklearn.linear_model import Lasso\n",
    "\n",
    "lasso = Lasso(random_state=42)\n",
    "lasso.fit(X_train, y_train)\n",
    "\n",
    "cv_scores = cross_val_score(lasso, X_train, y_train, cv=5, scoring=\"r2\")*100\n",
    "\n",
    "\n",
    "\n",
    "print('Lasso Regression Cross-Validation Scores:\\n',cv_scores)\n",
    "print(\"Average Score on 5-Folds: %.2f%%\" % cv_scores.mean())"
   ]
  },
  {
   "cell_type": "markdown",
   "metadata": {},
   "source": [
    "## Decision Trees"
   ]
  },
  {
   "cell_type": "code",
   "execution_count": 207,
   "metadata": {},
   "outputs": [
    {
     "name": "stdout",
     "output_type": "stream",
     "text": [
      "Decision Trees Cross-Validation Scores:\n",
      " [4.13520527 5.8091225  3.94495879 6.02381468 3.8016622 ]\n",
      "Average Score on 5-Folds: 4.74%\n"
     ]
    }
   ],
   "source": [
    "from sklearn import tree\n",
    "\n",
    "trees = tree.DecisionTreeRegressor(max_depth=6, random_state=42)\n",
    "trees.fit(X_train, y_train)\n",
    "\n",
    "from sklearn.ensemble import BaggingRegressor\n",
    "\n",
    "bag = BaggingRegressor(base_estimator=trees, random_state=42)\n",
    "bag.fit(X_train, np.ravel(y_train))\n",
    "\n",
    "cv_scores = cross_val_score(bag, X_train, np.ravel(y_train), cv=5, scoring=\"r2\")*100\n",
    "\n",
    "print('Decision Trees Cross-Validation Scores:\\n',cv_scores)\n",
    "print(\"Average Score on 5-Folds: %.2f%%\" % cv_scores.mean())"
   ]
  },
  {
   "cell_type": "markdown",
   "metadata": {},
   "source": [
    "## Random Forest"
   ]
  },
  {
   "cell_type": "code",
   "execution_count": 239,
   "metadata": {},
   "outputs": [
    {
     "name": "stderr",
     "output_type": "stream",
     "text": [
      "/Users/anna/miniconda3/lib/python3.7/site-packages/sklearn/ensemble/forest.py:245: FutureWarning: The default value of n_estimators will change from 10 in version 0.20 to 100 in 0.22.\n",
      "  \"10 in version 0.20 to 100 in 0.22.\", FutureWarning)\n"
     ]
    },
    {
     "name": "stdout",
     "output_type": "stream",
     "text": [
      "Random Forest Cross-Validation Scores:\n",
      " [-15.73347843  -4.53792521  -2.74621846 -45.21973406 -23.41130515]\n",
      "Average Score on 5-Folds: -18.33%\n"
     ]
    }
   ],
   "source": [
    "from sklearn.ensemble import RandomForestRegressor\n",
    "\n",
    "forest = RandomForestRegressor(random_state=42)\n",
    "forest.fit(X_train, np.ravel(y_train))\n",
    "\n",
    "cross_val_scores = cross_val_score(forest, X_train, np.ravel(y_train), cv=5, scoring=\"r2\")*100\n",
    "\n",
    "\n",
    "print('Random Forest Cross-Validation Scores:\\n',cv_scores)\n",
    "print(\"Average Score on 5-Folds: %.2f%%\" % cv_scores.mean())"
   ]
  },
  {
   "cell_type": "markdown",
   "metadata": {},
   "source": [
    "## Gradient Boost "
   ]
  },
  {
   "cell_type": "code",
   "execution_count": 208,
   "metadata": {},
   "outputs": [
    {
     "name": "stdout",
     "output_type": "stream",
     "text": [
      "Gradient Boost Cross-Validation Scores:\n",
      " [13.05191473 13.67639528 12.67413229 14.18105751 12.40067699]\n",
      "Average Score on 5-Folds: 13.20%\n"
     ]
    }
   ],
   "source": [
    "\n",
    "from sklearn.ensemble import GradientBoostingRegressor\n",
    "\n",
    "gbr = GradientBoostingRegressor(random_state=42)\n",
    "gbr.fit(X_train, np.ravel(y_train))\n",
    "\n",
    "cv_scores = cross_val_score(gbr, X_train, np.ravel(y_train),cv=5, scoring=\"r2\")*100\n",
    "\n",
    "print('Gradient Boost Cross-Validation Scores:\\n',cv_scores)\n",
    "print(\"Average Score on 5-Folds: %.2f%%\" % cv_scores.mean())"
   ]
  },
  {
   "cell_type": "markdown",
   "metadata": {},
   "source": [
    "# Second Metric: (number of cancellations)/(number of reviews)"
   ]
  },
  {
   "cell_type": "code",
   "execution_count": 219,
   "metadata": {},
   "outputs": [],
   "source": [
    "#create dummies\n",
    "\n",
    "categories2=['price','neighbourhood','room_type','minimum_nights', 'days booked', 'days_cancelled_avg', 'Rate']\n",
    "\n",
    "for category in categories2:\n",
    "    df_metrics[category]=df_metrics[category].astype('category')\n",
    "    \n",
    "new_df2=pd.get_dummies(df_metrics,drop_first=True)"
   ]
  },
  {
   "cell_type": "code",
   "execution_count": null,
   "metadata": {},
   "outputs": [],
   "source": [
    "#create dummies\n",
    "\n",
    "categories2=['price','neighbourhood','room_type','minimum_nights', 'days booked', 'days_cancelled_avg', 'Rate']\n",
    "\n",
    "for category in categories2:\n",
    "    df_metrics[category]=df_metrics[category].astype('category')\n",
    "    \n",
    "new_df2=pd.get_dummies(df_metrics,drop_first=True)\n",
    "\n",
    "X2=new_df2.drop(columns=['calculated_host_listings_count', 'num_cancellations','cancel_review'])\n",
    "y2=new_df2.cancel_review.apply(take_log)"
   ]
  },
  {
   "cell_type": "markdown",
   "metadata": {},
   "source": [
    "## Linear Regression"
   ]
  },
  {
   "cell_type": "code",
   "execution_count": 230,
   "metadata": {},
   "outputs": [
    {
     "name": "stdout",
     "output_type": "stream",
     "text": [
      "Linear Regression Cross-Validation Scores:\n",
      " [-3.86344577e+18 -6.14419061e+19 -7.71345512e+19 -1.49236522e+20\n",
      " -4.46327860e+20]\n",
      "Average Score on 10-Folds: -147600856945668063232.00%\n"
     ]
    }
   ],
   "source": [
    "\n",
    "X2_train, X2_test, y2_train, y2_test = train_test_split(X2, y2, test_size=0.3, random_state=42)\n",
    "\n",
    "reg2 = LinearRegression()\n",
    "reg2.fit(X2_train, y2_train)\n",
    "\n",
    "cv_scores= cross_val_score(reg2, X2_train, y2_train, cv=5,scoring='r2')\n",
    "\n",
    "\n",
    "print('Linear Regression Cross-Validation Scores:\\n',cv_scores)\n",
    "print(\"Average Score on 10-Folds: %.2f%%\" % cv_scores.mean())"
   ]
  },
  {
   "cell_type": "markdown",
   "metadata": {},
   "source": [
    "## Ridge Regression"
   ]
  },
  {
   "cell_type": "code",
   "execution_count": 225,
   "metadata": {
    "scrolled": true
   },
   "outputs": [
    {
     "name": "stdout",
     "output_type": "stream",
     "text": [
      "Ridge Regression Cross-Validation Scores:\n",
      " [-2.66137636 -1.01772156 -1.77384085 -2.41347602 -2.95032144]\n",
      "Average Score on 5-Folds: -2.16%\n"
     ]
    }
   ],
   "source": [
    "\n",
    "ridge2 = Ridge(random_state=42)\n",
    "ridge2.fit(X_train, y_train)\n",
    "\n",
    "cv_scores = cross_val_score(ridge2, X2_train, y2_train, \\\n",
    "                                   cv=5, scoring=\"r2\")*100\n",
    "\n",
    "print('Ridge Regression Cross-Validation Scores:\\n',cv_scores)\n",
    "print(\"Average Score on 5-Folds: %.2f%%\" % cv_scores.mean())"
   ]
  },
  {
   "cell_type": "markdown",
   "metadata": {},
   "source": [
    "## Lasso Regression"
   ]
  },
  {
   "cell_type": "code",
   "execution_count": 226,
   "metadata": {},
   "outputs": [
    {
     "name": "stdout",
     "output_type": "stream",
     "text": [
      "Lasso Regression Cross-Validation Scores:\n",
      " [-0.01051867 -0.00491009 -0.00147286 -0.00111656 -0.00044051]\n",
      "Average Score on 5-Folds: -0.00%\n"
     ]
    }
   ],
   "source": [
    "from sklearn.linear_model import Lasso\n",
    "\n",
    "lasso2 = Lasso(random_state=42)\n",
    "lasso2.fit(X2_train, y2_train)\n",
    "\n",
    "cv_scores = cross_val_score(lasso2, X2_train, y2_train, cv=5, scoring=\"r2\")*100\n",
    "\n",
    "print('Lasso Regression Cross-Validation Scores:\\n',cv_scores)\n",
    "print(\"Average Score on 5-Folds: %.2f%%\" % cv_scores.mean())"
   ]
  },
  {
   "cell_type": "markdown",
   "metadata": {},
   "source": [
    "## Decision Trees"
   ]
  },
  {
   "cell_type": "code",
   "execution_count": 235,
   "metadata": {},
   "outputs": [
    {
     "name": "stdout",
     "output_type": "stream",
     "text": [
      "Decision Trees Cross-Validation Scores:\n",
      " [-4.47654316 -1.69383502 -1.1900655  -5.30567949 -6.22343193]\n",
      "Average Score on 5-Folds: -3.78%\n"
     ]
    }
   ],
   "source": [
    "from sklearn import tree\n",
    "\n",
    "trees2 = tree.DecisionTreeRegressor(max_depth=6, random_state=42)\n",
    "trees2.fit(X_train, y_train)\n",
    "\n",
    "from sklearn.ensemble import BaggingRegressor\n",
    "\n",
    "bag2 = BaggingRegressor(base_estimator=trees, \\\n",
    "                       random_state=42)\n",
    "bag2.fit(X_train, np.ravel(y_train))\n",
    "\n",
    "cv_scores = cross_val_score(bag2, X2_train, np.ravel(y2_train),\n",
    "                                   cv=5, scoring=\"r2\")*100\n",
    "\n",
    "print('Decision Trees Cross-Validation Scores:\\n',cv_scores)\n",
    "print(\"Average Score on 5-Folds: %.2f%%\" % cv_scores.mean())"
   ]
  },
  {
   "cell_type": "markdown",
   "metadata": {},
   "source": [
    "## Random Forest "
   ]
  },
  {
   "cell_type": "code",
   "execution_count": 237,
   "metadata": {},
   "outputs": [
    {
     "name": "stderr",
     "output_type": "stream",
     "text": [
      "/Users/anna/miniconda3/lib/python3.7/site-packages/sklearn/ensemble/forest.py:245: FutureWarning: The default value of n_estimators will change from 10 in version 0.20 to 100 in 0.22.\n",
      "  \"10 in version 0.20 to 100 in 0.22.\", FutureWarning)\n"
     ]
    },
    {
     "name": "stdout",
     "output_type": "stream",
     "text": [
      "Random Forest Cross-Validation Scores:\n",
      " [-15.73347843  -4.53792521  -2.74621846 -45.21973406 -23.41130515]\n",
      "Average Score on 5-Folds: -18.33%\n"
     ]
    }
   ],
   "source": [
    "from sklearn.ensemble import RandomForestRegressor\n",
    "\n",
    "forest2 = RandomForestRegressor(random_state=42)\n",
    "forest2.fit(X2_train, np.ravel(y_train))\n",
    "\n",
    "cv_scores = cross_val_score(forest2, X2_train, np.ravel(y2_train), cv=5, scoring=\"r2\")*100\n",
    "\n",
    "print('Random Forest Cross-Validation Scores:\\n',cv_scores)\n",
    "print(\"Average Score on 5-Folds: %.2f%%\" % cv_scores.mean())"
   ]
  },
  {
   "cell_type": "markdown",
   "metadata": {},
   "source": [
    "## Gradient Boost"
   ]
  },
  {
   "cell_type": "code",
   "execution_count": 228,
   "metadata": {},
   "outputs": [
    {
     "name": "stdout",
     "output_type": "stream",
     "text": [
      "Gradient Boost Cross-Validation Scores:\n",
      " [-0.01051867 -0.00491009 -0.00147286 -0.00111656 -0.00044051]\n",
      "Average Score on 5-Folds: -0.00%\n"
     ]
    }
   ],
   "source": [
    "from sklearn.ensemble import GradientBoostingRegressor\n",
    "\n",
    "gbr2 = GradientBoostingRegressor(random_state=42)\n",
    "gbr2.fit(X2_train, np.ravel(y_train))\n",
    "\n",
    "cross_val_scores = cross_val_score(gbr, X2_train, np.ravel(y2_train), cv=5, scoring=\"r2\")*100\n",
    "\n",
    "print('Gradient Boost Cross-Validation Scores:\\n',cv_scores)\n",
    "print(\"Average Score on 5-Folds: %.2f%%\" % cv_scores.mean())"
   ]
  }
 ],
 "metadata": {
  "kernelspec": {
   "display_name": "Python 3",
   "language": "python",
   "name": "python3"
  },
  "language_info": {
   "codemirror_mode": {
    "name": "ipython",
    "version": 3
   },
   "file_extension": ".py",
   "mimetype": "text/x-python",
   "name": "python",
   "nbconvert_exporter": "python",
   "pygments_lexer": "ipython3",
   "version": "3.7.1"
  }
 },
 "nbformat": 4,
 "nbformat_minor": 2
}
