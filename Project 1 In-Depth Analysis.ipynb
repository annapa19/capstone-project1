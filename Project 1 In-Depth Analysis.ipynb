{
 "cells": [
  {
   "cell_type": "code",
   "execution_count": 2,
   "metadata": {},
   "outputs": [],
   "source": [
    "import pandas as pd\n",
    "import numpy as np\n",
    "import re\n",
    "import seaborn as sns\n",
    "%matplotlib inline\n",
    "import matplotlib.pyplot as plt\n",
    "import scipy.stats as stats"
   ]
  },
  {
   "cell_type": "code",
   "execution_count": 49,
   "metadata": {},
   "outputs": [],
   "source": [
    "#data cleaning and wrangling\n",
    "\n",
    "reviews=pd.read_csv('/Users/anna/Downloads/reviews.csv.gz',compression='gzip').dropna()\n",
    "listings=pd.read_csv('/Users/anna/Downloads/listings (1).csv',error_bad_lines=False)\n",
    "neighborhoods=pd.read_csv('/Users/anna/Downloads/neighbourhoods.csv',error_bad_lines=False)\n",
    "crime=pd.read_csv('/Users/anna/Downloads/crime rates.csv',error_bad_lines=False).dropna()\n",
    "\n",
    "inactive=listings.loc[listings.availability_365==365]\n",
    "inactive.set_index('id',inplace=True)\n",
    "listings.set_index('id',inplace=True)\n",
    "new_listings=listings.drop(inactive.index,axis=0)\n",
    "\n",
    "autopost_1=reviews[reviews.comments.str.contains('The host canceled my reservation')]\n",
    "autopost_2=reviews[reviews.comments.str.contains('This is an automated posting')]\n",
    "autopost=pd.concat([autopost_1,autopost_2], axis=0).reset_index()\n",
    "\n",
    "\n",
    "def days_count(text):\n",
    "    if 'the day before' in text:\n",
    "        return 1\n",
    "    else:\n",
    "        return int(re.findall('\\d+', text)[0])\n",
    "    \n",
    "total_days=pd.DataFrame(autopost.comments.apply(days_count))\n",
    "\n",
    "auto=pd.merge(autopost,total_days,how='left',left_index=True,right_index=True)\n",
    "\n",
    "avg_days=pd.DataFrame(auto[['listing_id','comments_y']].groupby('listing_id')['comments_y'].apply(np.mean).apply(round))\n",
    "\n",
    "\n",
    "canceled=autopost.listing_id.value_counts()\n",
    "num_cancel=canceled.to_frame(name='cancellations')\n",
    "new_listings['num_cancellations']=num_cancel\n",
    "\n",
    "booked=365-new_listings.availability_365\n",
    "booked=booked.to_frame('days booked')\n",
    "df=new_listings.merge(booked, how='left',left_index=True,right_index=True)\n",
    "df['days_cancelled_avg']=avg_days\n",
    "df=df[['neighbourhood','room_type','price','minimum_nights','number_of_reviews'\\\n",
    "       ,'calculated_host_listings_count','days booked','num_cancellations','days_cancelled_avg']]\n",
    "df['num_cancellations']=df.num_cancellations.fillna(0)\n",
    "df['days_cancelled_avg']=df.days_cancelled_avg.fillna(0)\n",
    "\n",
    "\n",
    "conv = lambda x: float(x.replace(',',''))\n",
    "crime['Number_of_offences']=crime.Number_of_offences.apply(conv)\n",
    "all_crimes=crime[crime['Offences']=='All recorded offences']\n",
    "\n",
    "all_crimes=all_crimes[all_crimes['Borough']!='Inner London']\n",
    "all_crimes=all_crimes[all_crimes['Borough']!='England and Wales']\n",
    "all_crimes=all_crimes[all_crimes['Borough']!='Met Police Area']\n",
    "all_crimes=all_crimes[all_crimes['Borough']!='Outer London']\n",
    "all_crimes=all_crimes[all_crimes['Borough']!='Heathrow']\n",
    "\n",
    "conv_fl = lambda x: int(x.replace('-',''))\n",
    "year = all_crimes.Year.apply(conv_fl)\n",
    "all_crimes['Year']=year\n",
    "latest=all_crimes[(all_crimes['Year'])>=201112]\n"
   ]
  },
  {
   "cell_type": "code",
   "execution_count": 73,
   "metadata": {},
   "outputs": [],
   "source": [
    "df_main=pd.merge(df,latest.groupby('Borough').mean(),left_on='neighbourhood',right_on='Borough',how='left').drop(columns=['Year','Number_of_offences'])"
   ]
  },
  {
   "cell_type": "markdown",
   "metadata": {},
   "source": [
    "Since scikit learn rejects categorical features by default, we make sure to create dummies for these categorical features. In this data, we only have two categorical variables: 'room_type' and 'neighborhood'."
   ]
  },
  {
   "cell_type": "code",
   "execution_count": 45,
   "metadata": {},
   "outputs": [],
   "source": [
    "#create dummies\n",
    "\n",
    "df=df_main\n",
    "\n",
    "categories=['room_type','neighbourhood']\n",
    "\n",
    "for category in categories:\n",
    "    df[category]=df[category].astype('category')\n",
    "    \n",
    "new_df=pd.get_dummies(df,drop_first=True)\n",
    "\n",
    "X=new_df.drop(columns=['calculated_host_listings_count', 'num_cancellations'])\n",
    "take_log = lambda x: np.log(x) if x>0 else 0\n",
    "y=new_df.num_cancellations"
   ]
  },
  {
   "cell_type": "markdown",
   "metadata": {},
   "source": [
    "We will use 70% of the data as the training data and use the remaining as the test set."
   ]
  },
  {
   "cell_type": "markdown",
   "metadata": {},
   "source": [
    "We will fit the training set to different estimators and see which one performs best without any hyperparameter tuning."
   ]
  },
  {
   "cell_type": "markdown",
   "metadata": {},
   "source": [
    "## Linear Regression"
   ]
  },
  {
   "cell_type": "code",
   "execution_count": 5,
   "metadata": {},
   "outputs": [],
   "source": [
    "X=X.fillna(0)"
   ]
  },
  {
   "cell_type": "code",
   "execution_count": 6,
   "metadata": {
    "scrolled": true
   },
   "outputs": [
    {
     "name": "stdout",
     "output_type": "stream",
     "text": [
      "Linear Regression Cross-Validation Scores:\n",
      " [22.18290634 21.45658224 22.31404306 23.18851301 21.58131627]\n",
      "Average Score on 5-Folds: 22.14%\n"
     ]
    }
   ],
   "source": [
    "from sklearn.linear_model import LinearRegression\n",
    "from sklearn.model_selection import train_test_split\n",
    "from sklearn.model_selection import cross_val_score\n",
    "from sklearn.metrics import mean_squared_error\n",
    "\n",
    "X_train, X_test, y_train, y_test = train_test_split(X, y, test_size=0.3, random_state=42)\n",
    "\n",
    "reg = LinearRegression()\n",
    "reg.fit(X_train, y_train)\n",
    "\n",
    "cv_scores= cross_val_score(reg, X_train, y_train, cv=5,scoring='r2')*100\n",
    "\n",
    "\n",
    "print('Linear Regression Cross-Validation Scores:\\n',cv_scores)\n",
    "print(\"Average Score on 5-Folds: %.2f%%\" % cv_scores.mean())\n",
    "\n",
    "model_results={}\n",
    "model_results['Linear Regression']=cv_scores.mean()\n"
   ]
  },
  {
   "cell_type": "markdown",
   "metadata": {},
   "source": [
    "There are three regression metrics we can use: \n",
    "    1) Mean Absolute Error\n",
    "    2) Mean Squared Error\n",
    "    3) R^2\n",
    "    \n",
    "For this project, I use R^2 for scoring since this will show us the goodness of fit of our prediction compared to the actual values."
   ]
  },
  {
   "cell_type": "markdown",
   "metadata": {},
   "source": [
    "## Ridge Regression"
   ]
  },
  {
   "cell_type": "code",
   "execution_count": 7,
   "metadata": {
    "scrolled": true
   },
   "outputs": [
    {
     "name": "stdout",
     "output_type": "stream",
     "text": [
      "Ridge Regression Cross-Validation Scores:\n",
      " [22.18357609 21.45695862 22.3143243  23.18951628 21.58131959]\n",
      "Average Score on 5-Folds: 22.15%\n"
     ]
    }
   ],
   "source": [
    "from sklearn.linear_model import Ridge\n",
    "\n",
    "ridge = Ridge(random_state=42)\n",
    "ridge.fit(X_train, y_train)\n",
    "\n",
    "cv_scores = cross_val_score(ridge, X_train, y_train, cv=5, scoring=\"r2\")*100\n",
    "\n",
    "print('Ridge Regression Cross-Validation Scores:\\n',cv_scores)\n",
    "print(\"Average Score on 5-Folds: %.2f%%\" % cv_scores.mean())\n",
    "\n",
    "\n",
    "model_results['Ridge Regression']=cv_scores.mean()\n"
   ]
  },
  {
   "cell_type": "markdown",
   "metadata": {},
   "source": [
    "## Lasso Regression"
   ]
  },
  {
   "cell_type": "code",
   "execution_count": 8,
   "metadata": {},
   "outputs": [
    {
     "name": "stdout",
     "output_type": "stream",
     "text": [
      "Lasso Regression Cross-Validation Scores:\n",
      " [21.07450804 21.11753366 21.89647552 22.65601087 21.44237983]\n",
      "Average Score on 5-Folds: 21.64%\n"
     ]
    }
   ],
   "source": [
    "from sklearn.linear_model import Lasso\n",
    "\n",
    "lasso = Lasso(random_state=42)\n",
    "lasso.fit(X_train, y_train)\n",
    "\n",
    "cv_scores = cross_val_score(lasso, X_train, y_train, cv=5, scoring=\"r2\")*100\n",
    "\n",
    "\n",
    "\n",
    "print('Lasso Regression Cross-Validation Scores:\\n',cv_scores)\n",
    "print(\"Average Score on 5-Folds: %.2f%%\" % (cv_scores.mean()))\n",
    "\n",
    "\n",
    "model_results['Lasso Regression']=(cv_scores.mean())\n"
   ]
  },
  {
   "cell_type": "markdown",
   "metadata": {},
   "source": [
    "## Decision Trees"
   ]
  },
  {
   "cell_type": "code",
   "execution_count": 9,
   "metadata": {},
   "outputs": [
    {
     "name": "stdout",
     "output_type": "stream",
     "text": [
      "Decision Trees Cross-Validation Scores:\n",
      " [54.4217324  58.96705215 59.87329344 61.57846697 56.81836209]\n",
      "Average Score on 5-Folds: 58.33%\n"
     ]
    }
   ],
   "source": [
    "from sklearn import tree\n",
    "from sklearn.ensemble import BaggingRegressor\n",
    "\n",
    "trees = tree.DecisionTreeRegressor(random_state=42)\n",
    "trees.fit(X_train, y_train)\n",
    "\n",
    "bag = BaggingRegressor(base_estimator=trees, random_state=42)\n",
    "bag.fit(X_train, np.ravel(y_train))\n",
    "\n",
    "cv_scores = cross_val_score(bag, X_train, np.ravel(y_train), cv=5, scoring=\"r2\")*100\n",
    "\n",
    "print('Decision Trees Cross-Validation Scores:\\n',cv_scores)\n",
    "print(\"Average Score on 5-Folds: %.2f%%\" % cv_scores.mean())\n",
    "\n",
    "\n",
    "model_results['Decision Trees']=cv_scores.mean()\n"
   ]
  },
  {
   "cell_type": "markdown",
   "metadata": {},
   "source": [
    "## Random Forest"
   ]
  },
  {
   "cell_type": "code",
   "execution_count": 10,
   "metadata": {},
   "outputs": [
    {
     "name": "stderr",
     "output_type": "stream",
     "text": [
      "/Users/anna/miniconda3/lib/python3.7/site-packages/sklearn/ensemble/forest.py:245: FutureWarning: The default value of n_estimators will change from 10 in version 0.20 to 100 in 0.22.\n",
      "  \"10 in version 0.20 to 100 in 0.22.\", FutureWarning)\n"
     ]
    },
    {
     "name": "stdout",
     "output_type": "stream",
     "text": [
      "Random Forest Cross-Validation Scores:\n",
      " [55.25761186 58.95332487 58.85265788 60.76294835 56.2914201 ]\n",
      "Average Score on 5-Folds: 58.02%\n"
     ]
    }
   ],
   "source": [
    "from sklearn.ensemble import RandomForestRegressor\n",
    "\n",
    "rf = RandomForestRegressor(random_state=42)\n",
    "rf.fit(X_train, np.ravel(y_train))\n",
    "\n",
    "cv_scores = cross_val_score(rf, X_train, np.ravel(y_train), cv=5, scoring=\"r2\")*100\n",
    "\n",
    "\n",
    "print('Random Forest Cross-Validation Scores:\\n',cv_scores)\n",
    "print(\"Average Score on 5-Folds: %.2f%%\" % cv_scores.mean())\n",
    "\n",
    "model_results['Random Forest']=cv_scores.mean()"
   ]
  },
  {
   "cell_type": "markdown",
   "metadata": {},
   "source": [
    "## Gradient Boost "
   ]
  },
  {
   "cell_type": "code",
   "execution_count": 11,
   "metadata": {},
   "outputs": [
    {
     "name": "stdout",
     "output_type": "stream",
     "text": [
      "Gradient Boost Cross-Validation Scores:\n",
      " [59.62670019 63.52494721 61.51806975 68.42969262 63.00312336]\n",
      "Average Score on 5-Folds: 63.22%\n"
     ]
    }
   ],
   "source": [
    "\n",
    "from sklearn.ensemble import GradientBoostingRegressor\n",
    "\n",
    "gbr = GradientBoostingRegressor(random_state=42)\n",
    "gbr.fit(X_train, np.ravel(y_train))\n",
    "\n",
    "cv_scores = cross_val_score(gbr, X_train, np.ravel(y_train),cv=5, scoring=\"r2\")*100\n",
    "\n",
    "print('Gradient Boost Cross-Validation Scores:\\n',cv_scores)\n",
    "print(\"Average Score on 5-Folds: %.2f%%\" % cv_scores.mean())\n",
    "\n",
    "model_results['Gradient Boost']=cv_scores.mean()"
   ]
  },
  {
   "cell_type": "markdown",
   "metadata": {},
   "source": [
    "In the dictionary below, we see how well each estimator did."
   ]
  },
  {
   "cell_type": "code",
   "execution_count": 12,
   "metadata": {},
   "outputs": [
    {
     "data": {
      "text/plain": [
       "{'Linear Regression': 22.14467218232928,\n",
       " 'Ridge Regression': 22.145138975618472,\n",
       " 'Lasso Regression': 21.637381583468162,\n",
       " 'Decision Trees': 58.33178140921795,\n",
       " 'Random Forest': 58.02359261222873,\n",
       " 'Gradient Boost': 63.22050662448341}"
      ]
     },
     "execution_count": 12,
     "metadata": {},
     "output_type": "execute_result"
    }
   ],
   "source": [
    "model_results"
   ]
  },
  {
   "cell_type": "code",
   "execution_count": 28,
   "metadata": {
    "scrolled": false
   },
   "outputs": [
    {
     "data": {
      "text/plain": [
       "Text(0, 0.5, 'Mean CV Scores')"
      ]
     },
     "execution_count": 28,
     "metadata": {},
     "output_type": "execute_result"
    },
    {
     "data": {
      "image/png": "[encoded data removed]",
      "text/plain": [
       "<Figure size 576x432 with 1 Axes>"
      ]
     },
     "metadata": {},
     "output_type": "display_data"
    }
   ],
   "source": [
    "results=pd.DataFrame.from_dict(model_results,orient='index',columns=['cv_mean'])\n",
    "results=results.sort_values('cv_mean',ascending=False)\n",
    "results['cv_mean'].plot.bar(figsize = (8, 6), edgecolor = 'k', linewidth = 2)\n",
    "plt.xticks(rotation=75)\n",
    "plt.title('Model Results')\n",
    "plt.ylabel('Mean CV Scores')"
   ]
  },
  {
   "cell_type": "markdown",
   "metadata": {},
   "source": [
    "The Gradient Boosting Regressor returned the highest cross validation score average. We try to extract best performance from this model by hyperparameter tuning."
   ]
  },
  {
   "cell_type": "code",
   "execution_count": null,
   "metadata": {},
   "outputs": [],
   "source": []
  },
  {
   "cell_type": "code",
   "execution_count": null,
   "metadata": {},
   "outputs": [],
   "source": []
  },
  {
   "cell_type": "code",
   "execution_count": null,
   "metadata": {},
   "outputs": [],
   "source": []
  },
  {
   "cell_type": "markdown",
   "metadata": {},
   "source": [
    "## Feature Importance"
   ]
  },
  {
   "cell_type": "markdown",
   "metadata": {},
   "source": [
    "Despite not having a lot of features to start with (40), we can improve the model's performance by dropping features that do not improve its performance and could even cause an overfitting."
   ]
  },
  {
   "cell_type": "code",
   "execution_count": 14,
   "metadata": {},
   "outputs": [],
   "source": [
    "features=X_train.columns"
   ]
  },
  {
   "cell_type": "code",
   "execution_count": 15,
   "metadata": {
    "scrolled": false
   },
   "outputs": [
    {
     "data": {
      "text/html": [
       "<div>\n",
       "<style scoped>\n",
       "    .dataframe tbody tr th:only-of-type {\n",
       "        vertical-align: middle;\n",
       "    }\n",
       "\n",
       "    .dataframe tbody tr th {\n",
       "        vertical-align: top;\n",
       "    }\n",
       "\n",
       "    .dataframe thead th {\n",
       "        text-align: right;\n",
       "    }\n",
       "</style>\n",
       "<table border=\"1\" class=\"dataframe\">\n",
       "  <thead>\n",
       "    <tr style=\"text-align: right;\">\n",
       "      <th></th>\n",
       "      <th>feature</th>\n",
       "      <th>importance</th>\n",
       "    </tr>\n",
       "  </thead>\n",
       "  <tbody>\n",
       "    <tr>\n",
       "      <td>4</td>\n",
       "      <td>days_cancelled_avg</td>\n",
       "      <td>0.676218</td>\n",
       "    </tr>\n",
       "    <tr>\n",
       "      <td>2</td>\n",
       "      <td>number_of_reviews</td>\n",
       "      <td>0.078718</td>\n",
       "    </tr>\n",
       "    <tr>\n",
       "      <td>0</td>\n",
       "      <td>price</td>\n",
       "      <td>0.067696</td>\n",
       "    </tr>\n",
       "    <tr>\n",
       "      <td>3</td>\n",
       "      <td>days booked</td>\n",
       "      <td>0.056675</td>\n",
       "    </tr>\n",
       "    <tr>\n",
       "      <td>1</td>\n",
       "      <td>minimum_nights</td>\n",
       "      <td>0.026000</td>\n",
       "    </tr>\n",
       "    <tr>\n",
       "      <td>5</td>\n",
       "      <td>Rate</td>\n",
       "      <td>0.018954</td>\n",
       "    </tr>\n",
       "    <tr>\n",
       "      <td>38</td>\n",
       "      <td>room_type_Private room</td>\n",
       "      <td>0.007126</td>\n",
       "    </tr>\n",
       "    <tr>\n",
       "      <td>26</td>\n",
       "      <td>neighbourhood_Lambeth</td>\n",
       "      <td>0.005529</td>\n",
       "    </tr>\n",
       "    <tr>\n",
       "      <td>17</td>\n",
       "      <td>neighbourhood_Hammersmith and Fulham</td>\n",
       "      <td>0.005451</td>\n",
       "    </tr>\n",
       "    <tr>\n",
       "      <td>24</td>\n",
       "      <td>neighbourhood_Kensington and Chelsea</td>\n",
       "      <td>0.005236</td>\n",
       "    </tr>\n",
       "    <tr>\n",
       "      <td>10</td>\n",
       "      <td>neighbourhood_Camden</td>\n",
       "      <td>0.004921</td>\n",
       "    </tr>\n",
       "    <tr>\n",
       "      <td>29</td>\n",
       "      <td>neighbourhood_Newham</td>\n",
       "      <td>0.004562</td>\n",
       "    </tr>\n",
       "    <tr>\n",
       "      <td>23</td>\n",
       "      <td>neighbourhood_Islington</td>\n",
       "      <td>0.004222</td>\n",
       "    </tr>\n",
       "    <tr>\n",
       "      <td>27</td>\n",
       "      <td>neighbourhood_Lewisham</td>\n",
       "      <td>0.004000</td>\n",
       "    </tr>\n",
       "    <tr>\n",
       "      <td>32</td>\n",
       "      <td>neighbourhood_Southwark</td>\n",
       "      <td>0.003757</td>\n",
       "    </tr>\n",
       "    <tr>\n",
       "      <td>16</td>\n",
       "      <td>neighbourhood_Hackney</td>\n",
       "      <td>0.003710</td>\n",
       "    </tr>\n",
       "    <tr>\n",
       "      <td>34</td>\n",
       "      <td>neighbourhood_Tower Hamlets</td>\n",
       "      <td>0.003362</td>\n",
       "    </tr>\n",
       "    <tr>\n",
       "      <td>36</td>\n",
       "      <td>neighbourhood_Wandsworth</td>\n",
       "      <td>0.003072</td>\n",
       "    </tr>\n",
       "    <tr>\n",
       "      <td>37</td>\n",
       "      <td>neighbourhood_Westminster</td>\n",
       "      <td>0.003064</td>\n",
       "    </tr>\n",
       "    <tr>\n",
       "      <td>13</td>\n",
       "      <td>neighbourhood_Ealing</td>\n",
       "      <td>0.002184</td>\n",
       "    </tr>\n",
       "    <tr>\n",
       "      <td>31</td>\n",
       "      <td>neighbourhood_Richmond upon Thames</td>\n",
       "      <td>0.001922</td>\n",
       "    </tr>\n",
       "    <tr>\n",
       "      <td>8</td>\n",
       "      <td>neighbourhood_Brent</td>\n",
       "      <td>0.001893</td>\n",
       "    </tr>\n",
       "    <tr>\n",
       "      <td>28</td>\n",
       "      <td>neighbourhood_Merton</td>\n",
       "      <td>0.001752</td>\n",
       "    </tr>\n",
       "    <tr>\n",
       "      <td>12</td>\n",
       "      <td>neighbourhood_Croydon</td>\n",
       "      <td>0.001735</td>\n",
       "    </tr>\n",
       "    <tr>\n",
       "      <td>22</td>\n",
       "      <td>neighbourhood_Hounslow</td>\n",
       "      <td>0.001578</td>\n",
       "    </tr>\n",
       "    <tr>\n",
       "      <td>18</td>\n",
       "      <td>neighbourhood_Haringey</td>\n",
       "      <td>0.001562</td>\n",
       "    </tr>\n",
       "    <tr>\n",
       "      <td>6</td>\n",
       "      <td>neighbourhood_Barnet</td>\n",
       "      <td>0.001372</td>\n",
       "    </tr>\n",
       "    <tr>\n",
       "      <td>35</td>\n",
       "      <td>neighbourhood_Waltham Forest</td>\n",
       "      <td>0.001068</td>\n",
       "    </tr>\n",
       "    <tr>\n",
       "      <td>15</td>\n",
       "      <td>neighbourhood_Greenwich</td>\n",
       "      <td>0.000524</td>\n",
       "    </tr>\n",
       "    <tr>\n",
       "      <td>25</td>\n",
       "      <td>neighbourhood_Kingston upon Thames</td>\n",
       "      <td>0.000368</td>\n",
       "    </tr>\n",
       "    <tr>\n",
       "      <td>39</td>\n",
       "      <td>room_type_Shared room</td>\n",
       "      <td>0.000321</td>\n",
       "    </tr>\n",
       "    <tr>\n",
       "      <td>14</td>\n",
       "      <td>neighbourhood_Enfield</td>\n",
       "      <td>0.000286</td>\n",
       "    </tr>\n",
       "    <tr>\n",
       "      <td>9</td>\n",
       "      <td>neighbourhood_Bromley</td>\n",
       "      <td>0.000284</td>\n",
       "    </tr>\n",
       "    <tr>\n",
       "      <td>19</td>\n",
       "      <td>neighbourhood_Harrow</td>\n",
       "      <td>0.000251</td>\n",
       "    </tr>\n",
       "    <tr>\n",
       "      <td>21</td>\n",
       "      <td>neighbourhood_Hillingdon</td>\n",
       "      <td>0.000245</td>\n",
       "    </tr>\n",
       "    <tr>\n",
       "      <td>30</td>\n",
       "      <td>neighbourhood_Redbridge</td>\n",
       "      <td>0.000181</td>\n",
       "    </tr>\n",
       "    <tr>\n",
       "      <td>11</td>\n",
       "      <td>neighbourhood_City of London</td>\n",
       "      <td>0.000119</td>\n",
       "    </tr>\n",
       "    <tr>\n",
       "      <td>33</td>\n",
       "      <td>neighbourhood_Sutton</td>\n",
       "      <td>0.000067</td>\n",
       "    </tr>\n",
       "    <tr>\n",
       "      <td>20</td>\n",
       "      <td>neighbourhood_Havering</td>\n",
       "      <td>0.000017</td>\n",
       "    </tr>\n",
       "    <tr>\n",
       "      <td>7</td>\n",
       "      <td>neighbourhood_Bexley</td>\n",
       "      <td>0.000000</td>\n",
       "    </tr>\n",
       "  </tbody>\n",
       "</table>\n",
       "</div>"
      ],
      "text/plain": [
       "                                 feature  importance\n",
       "4                     days_cancelled_avg    0.676218\n",
       "2                      number_of_reviews    0.078718\n",
       "0                                  price    0.067696\n",
       "3                            days booked    0.056675\n",
       "1                         minimum_nights    0.026000\n",
       "5                                   Rate    0.018954\n",
       "38                room_type_Private room    0.007126\n",
       "26                 neighbourhood_Lambeth    0.005529\n",
       "17  neighbourhood_Hammersmith and Fulham    0.005451\n",
       "24  neighbourhood_Kensington and Chelsea    0.005236\n",
       "10                  neighbourhood_Camden    0.004921\n",
       "29                  neighbourhood_Newham    0.004562\n",
       "23               neighbourhood_Islington    0.004222\n",
       "27                neighbourhood_Lewisham    0.004000\n",
       "32               neighbourhood_Southwark    0.003757\n",
       "16                 neighbourhood_Hackney    0.003710\n",
       "34           neighbourhood_Tower Hamlets    0.003362\n",
       "36              neighbourhood_Wandsworth    0.003072\n",
       "37             neighbourhood_Westminster    0.003064\n",
       "13                  neighbourhood_Ealing    0.002184\n",
       "31    neighbourhood_Richmond upon Thames    0.001922\n",
       "8                    neighbourhood_Brent    0.001893\n",
       "28                  neighbourhood_Merton    0.001752\n",
       "12                 neighbourhood_Croydon    0.001735\n",
       "22                neighbourhood_Hounslow    0.001578\n",
       "18                neighbourhood_Haringey    0.001562\n",
       "6                   neighbourhood_Barnet    0.001372\n",
       "35          neighbourhood_Waltham Forest    0.001068\n",
       "15               neighbourhood_Greenwich    0.000524\n",
       "25    neighbourhood_Kingston upon Thames    0.000368\n",
       "39                 room_type_Shared room    0.000321\n",
       "14                 neighbourhood_Enfield    0.000286\n",
       "9                  neighbourhood_Bromley    0.000284\n",
       "19                  neighbourhood_Harrow    0.000251\n",
       "21              neighbourhood_Hillingdon    0.000245\n",
       "30               neighbourhood_Redbridge    0.000181\n",
       "11          neighbourhood_City of London    0.000119\n",
       "33                  neighbourhood_Sutton    0.000067\n",
       "20                neighbourhood_Havering    0.000017\n",
       "7                   neighbourhood_Bexley    0.000000"
      ]
     },
     "execution_count": 15,
     "metadata": {},
     "output_type": "execute_result"
    }
   ],
   "source": [
    "# Feature importances into a dataframe\n",
    "feature_importances = pd.DataFrame({'feature': features, 'importance': rf.feature_importances_})\n",
    "feature_importances.sort_values(by='importance',ascending=False)"
   ]
  },
  {
   "cell_type": "code",
   "execution_count": 29,
   "metadata": {},
   "outputs": [],
   "source": [
    "def plot_feature_importances(df, n = 10, threshold = None):\n",
    "   \n",
    "    plt.style.use('fivethirtyeight')\n",
    "    \n",
    "    # Sort features with most important at the head\n",
    "    df = df.sort_values('importance', ascending = False).reset_index(drop = True)\n",
    "    \n",
    "    # Normalize the feature importances to add up to one and calculate cumulative importance\n",
    "    df['importance_normalized'] = df['importance'] / df['importance'].sum()\n",
    "    df['cumulative_importance'] = np.cumsum(df['importance_normalized'])\n",
    "    \n",
    "    plt.rcParams['font.size'] = 12\n",
    "    \n",
    "    # Bar plot of n most important features\n",
    "    df.loc[:n, :].plot.barh(y = 'importance_normalized', \n",
    "                            x = 'feature', color = 'darkgreen', \n",
    "                            edgecolor = 'k', figsize = (12, 8),\n",
    "                            legend = False, linewidth = 2)\n",
    "\n",
    "    plt.xlabel('Normalized Importance', size = 18); plt.ylabel(''); \n",
    "    plt.title(f'{n} Most Important Features', size = 18)\n",
    "    plt.gca().invert_yaxis()\n",
    "    \n",
    "    \n",
    "    if threshold:\n",
    "        # Cumulative importance plot\n",
    "        plt.figure(figsize = (8, 6))\n",
    "        plt.plot(list(range(len(df))), df['cumulative_importance'], 'b-')\n",
    "        plt.xlabel('Number of Features', size = 16); plt.ylabel('Cumulative Importance', size = 16); \n",
    "        plt.title('Cumulative Feature Importance', size = 18);\n",
    "        \n",
    "        # Number of features needed for threshold cumulative importance\n",
    "        # This is the index (will need to add 1 for the actual number)\n",
    "        importance_index = np.min(np.where(df['cumulative_importance'] > threshold))\n",
    "        \n",
    "        # Add vertical line to plot\n",
    "        plt.vlines(importance_index + 1, ymin = 0, ymax = 1.05, linestyles = '--', colors = 'red')\n",
    "        plt.show()\n",
    "        \n",
    "        \n",
    "    \n",
    "    return df\n"
   ]
  },
  {
   "cell_type": "code",
   "execution_count": 17,
   "metadata": {
    "scrolled": false
   },
   "outputs": [
    {
     "data": {
      "image/png": "[encoded data removed]",
      "text/plain": [
       "<Figure size 864x576 with 1 Axes>"
      ]
     },
     "metadata": {},
     "output_type": "display_data"
    },
    {
     "data": {
      "image/png": "[encoded data removed]",
      "text/plain": [
       "<Figure size 576x432 with 1 Axes>"
      ]
     },
     "metadata": {},
     "output_type": "display_data"
    }
   ],
   "source": [
    "norm_fi = plot_feature_importances(feature_importances, threshold=0.95)"
   ]
  },
  {
   "cell_type": "markdown",
   "metadata": {},
   "source": [
    "As we can see, the noncategorical feature that has least feature importance is 'Rate' (neighborhood's crime rate)."
   ]
  },
  {
   "cell_type": "code",
   "execution_count": 18,
   "metadata": {},
   "outputs": [],
   "source": [
    "#create dummies\n",
    "\n",
    "categories=['room_type','neighbourhood']\n",
    "\n",
    "for category in categories:\n",
    "    df_main[category]=df_main[category].astype('category')\n",
    "    \n",
    "new=pd.get_dummies(df_main,drop_first=True).drop(columns=['Rate'])\n",
    "\n",
    "X2=new.drop(columns=['calculated_host_listings_count', 'num_cancellations'])\n",
    "take_log = lambda x: np.log(x) if x>0 else 0\n",
    "y2=new.num_cancellations"
   ]
  },
  {
   "cell_type": "code",
   "execution_count": 19,
   "metadata": {},
   "outputs": [],
   "source": [
    "X2_train, X2_test, y2_train, y2_test = train_test_split(X2, y2, test_size=0.3, random_state=42)"
   ]
  },
  {
   "cell_type": "code",
   "execution_count": 20,
   "metadata": {
    "scrolled": true
   },
   "outputs": [
    {
     "name": "stdout",
     "output_type": "stream",
     "text": [
      "Gradient Boost Cross-Validation Scores:\n",
      " [59.57090959 63.59085202 62.21542703 68.49382006 62.91017175]\n",
      "Average Score on 5-Folds: 63.36%\n"
     ]
    }
   ],
   "source": [
    "gbr2 = GradientBoostingRegressor(random_state=42)\n",
    "gbr2.fit(X2_train, np.ravel(y2_train))\n",
    "\n",
    "cv_scores = cross_val_score(gbr2, X2_train, np.ravel(y2_train),cv=5, scoring=\"r2\")*100\n",
    "\n",
    "print('Gradient Boost Cross-Validation Scores:\\n',cv_scores)\n",
    "print(\"Average Score on 5-Folds: %.2f%%\" % cv_scores.mean())"
   ]
  },
  {
   "cell_type": "markdown",
   "metadata": {},
   "source": [
    "By dropping the feature 'Rate', our average CV score went up from 63.22% to 63.36%"
   ]
  },
  {
   "cell_type": "markdown",
   "metadata": {},
   "source": [
    "## Hyperparameter Tuning"
   ]
  },
  {
   "cell_type": "code",
   "execution_count": 21,
   "metadata": {},
   "outputs": [],
   "source": [
    "trees=[50,100,200,300,400,500]\n",
    "\n",
    "gbr_results={}\n",
    "\n",
    "for tree in trees:\n",
    "    gbr2 = GradientBoostingRegressor(random_state=42,n_estimators=tree)\n",
    "    gbr2.fit(X2_train, np.ravel(y2_train))\n",
    "\n",
    "    cv_scores = cross_val_score(gbr2, X2_train, np.ravel(y2_train),cv=5, scoring=\"r2\")*100\n",
    "    gbr_results[tree]=cv_scores.mean()\n",
    "    \n",
    "best_n=[a for a,b in gbr_results.items() if b==max(gbr_results.values())][0]"
   ]
  },
  {
   "cell_type": "code",
   "execution_count": 22,
   "metadata": {},
   "outputs": [],
   "source": [
    "depth= list(range(3,8))\n",
    "\n",
    "depth_results={}\n",
    "\n",
    "for x in depth:\n",
    "    gbr2 = GradientBoostingRegressor(random_state=42,n_estimators=best_n,max_depth=x)\n",
    "    gbr2.fit(X2_train, np.ravel(y2_train))\n",
    "\n",
    "    cv_scores = cross_val_score(gbr2, X2_train, np.ravel(y2_train),cv=5, scoring=\"r2\")*100\n",
    "    depth_results[x]=cv_scores.mean()\n",
    "    \n",
    "best_max_depth=[a for a,b in depth_results.items() if b==max(depth_results.values())][0]"
   ]
  },
  {
   "cell_type": "code",
   "execution_count": 23,
   "metadata": {},
   "outputs": [],
   "source": [
    "lr=[0.0001, 0.001, 0.01, 0.1]\n",
    "\n",
    "lr_results={}\n",
    "\n",
    "for x in lr:\n",
    "    gbr2 = GradientBoostingRegressor(random_state=42,n_estimators=best_n,max_depth=best_max_depth,learning_rate=x)\n",
    "    gbr2.fit(X2_train, np.ravel(y2_train))\n",
    "\n",
    "    cv_scores = cross_val_score(gbr2, X2_train, np.ravel(y2_train),cv=5, scoring=\"r2\")*100\n",
    "    lr_results[x]=cv_scores.mean()\n",
    "    \n",
    "best_lr=[a for a,b in lr_results.items() if b==max(lr_results.values())][0]\n"
   ]
  },
  {
   "cell_type": "code",
   "execution_count": 24,
   "metadata": {},
   "outputs": [
    {
     "name": "stdout",
     "output_type": "stream",
     "text": [
      "Gradient Boost Cross-Validation Scores:\n",
      " [59.7238846  63.56865243 62.41252428 68.59574476 63.30150423]\n",
      "Average Score on 5-Folds: 63.52%\n"
     ]
    }
   ],
   "source": [
    "gbr = GradientBoostingRegressor(random_state=42,n_estimators=best_n,max_depth=best_max_depth,learning_rate=best_lr)\n",
    "gbr.fit(X_train, np.ravel(y_train))\n",
    "\n",
    "cv_scores = cross_val_score(gbr, X_train, np.ravel(y_train),cv=5, scoring=\"r2\")*100\n",
    "\n",
    "print('Gradient Boost Cross-Validation Scores:\\n',cv_scores)\n",
    "print(\"Average Score on 5-Folds: %.2f%%\" % cv_scores.mean())\n"
   ]
  },
  {
   "cell_type": "code",
   "execution_count": 83,
   "metadata": {},
   "outputs": [
    {
     "name": "stdout",
     "output_type": "stream",
     "text": [
      "Train set score: 64.60%\n",
      "Test set score: 61.45%\n"
     ]
    }
   ],
   "source": [
    "train_score = gbr.score(X_train, y_train)*100\n",
    "test_score = gbr.score(X_test, y_test)*100\n",
    "\n",
    "print(\"Train set score: %.2f%%\" % train_score)\n",
    "print(\"Test set score: %.2f%%\" % test_score)"
   ]
  }
 ],
 "metadata": {
  "kernelspec": {
   "display_name": "Python 3",
   "language": "python",
   "name": "python3"
  },
  "language_info": {
   "codemirror_mode": {
    "name": "ipython",
    "version": 3
   },
   "file_extension": ".py",
   "mimetype": "text/x-python",
   "name": "python",
   "nbconvert_exporter": "python",
   "pygments_lexer": "ipython3",
   "version": "3.7.1"
  }
 },
 "nbformat": 4,
 "nbformat_minor": 2
}
